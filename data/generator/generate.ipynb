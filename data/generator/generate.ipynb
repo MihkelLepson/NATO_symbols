{
 "cells": [
  {
   "cell_type": "code",
   "execution_count": 1,
   "id": "b67e9d81",
   "metadata": {},
   "outputs": [],
   "source": [
    "import numpy as np\n",
    "import cv2\n",
    "from random import randint\n",
    "from tqdm import tqdm #For progressbar\n",
    "import os\n",
    "import re\n",
    "from generate import generate"
   ]
  },
  {
   "cell_type": "code",
   "execution_count": 3,
   "id": "60132548",
   "metadata": {},
   "outputs": [],
   "source": [
    "sample = []\n",
    "sample_labels = []\n",
    "\n",
    "#Read in sample.\n",
    "for filename in os.listdir(\"data/\"):\n",
    "    img = cv2.imread(\"data/\" + filename,0)\n",
    "    #Remove excess rows and columns that appeared after rotation and padding\n",
    "    img = img[np.argwhere(np.amin(img,axis=1) < 120)[0][0]:np.argwhere(np.amin(img,axis=1) < 120)[-1][0],:]\n",
    "    img = img[:,np.argwhere(np.amin(img,axis=0) < 120)[0][0]:np.argwhere(np.amin(img,axis=0) < 120)[-1][0]]\n",
    "    sample.append(img)\n",
    "    sample_labels.append(re.findall('([a-zA-Z_ ]*)\\d*.*', filename)[0])"
   ]
  },
  {
   "cell_type": "code",
   "execution_count": 4,
   "id": "af4b2a1b",
   "metadata": {},
   "outputs": [],
   "source": [
    "generated = []\n",
    "labels = []"
   ]
  },
  {
   "cell_type": "code",
   "execution_count": 5,
   "id": "45fb6795",
   "metadata": {},
   "outputs": [
    {
     "name": "stderr",
     "output_type": "stream",
     "text": [
      "100%|██████████| 90/90 [01:16<00:00,  1.17it/s]\n"
     ]
    }
   ],
   "source": [
    "for i in tqdm(range(90)): #We apply rotation to all the images with 4 degrees intervals.\n",
    "    #Apply just the rotation.\n",
    "    for k in range(len(sample)):\n",
    "        img = np.copy(sample[k])\n",
    "        img = generate(img, apply_rotation = True, rotation = 4*i)\n",
    "        generated.append(img)\n",
    "        labels.append(sample_labels[k])\n",
    "    \n",
    "    #Apply rotation, and tranformation.\n",
    "    for k in range(len(sample)):\n",
    "        img = np.copy(sample[k])\n",
    "        img = generate(img, apply_rotation = True, rotation = 4*i, apply_transformation = True)\n",
    "        generated.append(img)\n",
    "        labels.append(sample_labels[k])\n",
    "    '''\n",
    "    #Apply flip(always) and rotation\n",
    "    for k in range(len(sample)):\n",
    "        img = np.copy(sample[k])\n",
    "        img = generate(img, apply_flip = True, flip_random = False, apply_rotation = True, rotation = 8*i)\n",
    "        generated.append(img)\n",
    "        labels.append(sample_labels[k])\n",
    "        \n",
    "    #Apply resize, flip(random) and rotation\n",
    "    for k in range(len(sample)):\n",
    "        img = np.copy(sample[k])\n",
    "        img = generate(img, apply_resize = True, apply_flip = True, apply_rotation = True, rotation = 8*i)\n",
    "        generated.append(img)\n",
    "        labels.append(sample_labels[k])\n",
    "    ''' \n"
   ]
  },
  {
   "cell_type": "code",
   "execution_count": 6,
   "id": "395e2e7b",
   "metadata": {},
   "outputs": [
    {
     "data": {
      "text/plain": [
       "'\\nfor i in tqdm(range(40000)):\\n    select = randint(0,len(sample)-1)\\n    img = np.copy(sample[select])\\n    img = generate(img, apply_resize = True, apply_flip = True, apply_rotation = True, apply_thickness = True)\\n    generated.append(img)\\n    labels.append(sample_labels[select])\\n'"
      ]
     },
     "execution_count": 6,
     "metadata": {},
     "output_type": "execute_result"
    }
   ],
   "source": [
    "#Apply resize, flip(random), transformation and rotation(random) to random images\n",
    "'''\n",
    "for i in tqdm(range(40000)):\n",
    "    select = randint(0,len(sample)-1)\n",
    "    img = np.copy(sample[select])\n",
    "    img = generate(img, apply_resize = True, apply_flip = True, apply_rotation = True, apply_boldness = True)\n",
    "    generated.append(img)\n",
    "    labels.append(sample_labels[select])\n",
    "'''"
   ]
  },
  {
   "cell_type": "code",
   "execution_count": 7,
   "id": "e37bcfd3",
   "metadata": {},
   "outputs": [
    {
     "data": {
      "text/plain": [
       "80820"
      ]
     },
     "execution_count": 7,
     "metadata": {},
     "output_type": "execute_result"
    }
   ],
   "source": [
    "len(generated)"
   ]
  },
  {
   "cell_type": "code",
   "execution_count": 8,
   "id": "6edea722",
   "metadata": {},
   "outputs": [],
   "source": [
    "data = np.array(generated)\n",
    "data_labels = np.array(labels)"
   ]
  },
  {
   "cell_type": "code",
   "execution_count": 9,
   "id": "7e82d6ae",
   "metadata": {
    "pycharm": {
     "name": "#%%\n"
    }
   },
   "outputs": [],
   "source": [
    "np.save(\"generated_data\", data)\n",
    "np.save(\"generated_data_labels\", data_labels)"
   ]
  }
 ],
 "metadata": {
  "kernelspec": {
   "display_name": "Python 3 (ipykernel)",
   "language": "python",
   "name": "python3"
  },
  "language_info": {
   "codemirror_mode": {
    "name": "ipython",
    "version": 3
   },
   "file_extension": ".py",
   "mimetype": "text/x-python",
   "name": "python",
   "nbconvert_exporter": "python",
   "pygments_lexer": "ipython3",
   "version": "3.9.7"
  }
 },
 "nbformat": 4,
 "nbformat_minor": 5
}
