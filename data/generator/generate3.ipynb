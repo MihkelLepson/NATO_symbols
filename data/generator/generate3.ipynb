{
 "cells": [
  {
   "cell_type": "markdown",
   "id": "edf9d37d",
   "metadata": {},
   "source": [
    "In generate 1 and 2 we used for input a binary valued images. In this one we use iamges that are converted only to gray scale."
   ]
  },
  {
   "cell_type": "code",
   "execution_count": null,
   "id": "df67f13d",
   "metadata": {},
   "outputs": [],
   "source": [
    "import numpy as np\n",
    "import cv2\n",
    "from random import randint\n",
    "from scipy import ndimage\n",
    "import os\n",
    "import re\n",
    "from tqdm import tqdm #For progressbar\n",
    "from augment import augment"
   ]
  },
  {
   "cell_type": "code",
   "execution_count": null,
   "id": "c0bfb465",
   "metadata": {},
   "outputs": [],
   "source": [
    "sample = []\n",
    "sample_labels = []\n",
    "\n",
    "#Read in sample.\n",
    "for filename in os.listdir(\"../symbols_raw/symbols1/\"):\n",
    "    img = cv2.imread(\"../symbols_raw/symbols1/\" + filename)\n",
    "    sample.append(cv2.cvtColor(img, cv2.COLOR_BGR2GRAY))\n",
    "    sample_labels.append(re.findall('([a-zA-Z_ ]*)\\d*.*', filename)[0])"
   ]
  },
  {
   "cell_type": "code",
   "execution_count": null,
   "id": "c9c51e4c",
   "metadata": {},
   "outputs": [],
   "source": [
    "generated = []\n",
    "labels = []"
   ]
  },
  {
   "cell_type": "code",
   "execution_count": null,
   "id": "31a49305",
   "metadata": {},
   "outputs": [],
   "source": [
    "for i in tqdm(range(45)): #We apply rotation to all the images with 8 degrees intervals.\n",
    "    #Apply just the rotation.\n",
    "    for k in range(len(sample)):\n",
    "        img = np.copy(sample[k])\n",
    "        img = augment(img, apply_rotation = True, rotation = 8*i)\n",
    "        generated.append(img)\n",
    "        labels.append(sample_labels[k])\n",
    "    \n",
    "    #Apply rotation, resize and make lines bolder.\n",
    "    for k in range(len(sample)):\n",
    "        img = np.copy(sample[k])\n",
    "        img = augment(img, apply_resize = True, apply_rotation = True, rotation = 8*i, apply_boldness = True, boldness_dir = 1)\n",
    "        generated.append(img)\n",
    "        labels.append(sample_labels[k])\n",
    "    \n",
    "    #Apply rotation and flip.\n",
    "    for k in range(len(sample)):\n",
    "        img = np.copy(sample[k])\n",
    "        img = augment(img, apply_flip = True, flip_random = False, apply_rotation = True, rotation = 8*i)\n",
    "        generated.append(img)\n",
    "        labels.append(sample_labels[k])\n",
    "        \n",
    "    #Apply rotation and resize.\n",
    "    for k in range(len(sample)):\n",
    "        img = np.copy(sample[k])\n",
    "        img = augment(img, apply_resize = True, flip_random = False, apply_rotation = True, rotation = 8*i, add_noise=True)\n",
    "        generated.append(img)\n",
    "        labels.append(sample_labels[k])\n",
    "    \n",
    "    #Apply rotation, and tranformation.\n",
    "    for k in range(len(sample)):\n",
    "        img = np.copy(sample[k])\n",
    "        img = augment(img, apply_rotation = True, rotation = 8*i, apply_transformation = True, add_noise=True)\n",
    "        generated.append(img)\n",
    "        labels.append(sample_labels[k])\n",
    "        \n",
    "    #Apply rotation, tranformation and flip.\n",
    "    for k in range(len(sample)):\n",
    "        img = np.copy(sample[k])\n",
    "        img = augment(img, apply_flip = True, flip_random = False, apply_rotation = True, rotation = 8*i, apply_transformation = True)\n",
    "        generated.append(img)\n",
    "        labels.append(sample_labels[k])\n",
    "        \n",
    "    #Apply rotation, transformation, boldness and resize.\n",
    "    for k in range(len(sample)):\n",
    "        img = np.copy(sample[k])\n",
    "        img = augment(img, apply_resize = True, apply_rotation = True, rotation = 8*i, apply_boldness = True, add_noise=True)\n",
    "        generated.append(img)\n",
    "        labels.append(sample_labels[k])"
   ]
  },
  {
   "cell_type": "code",
   "execution_count": null,
   "id": "98724711",
   "metadata": {},
   "outputs": [],
   "source": [
    "#Full random\n",
    "for i in tqdm(range(200000)):\n",
    "    k = randint(0,len(sample)-1)\n",
    "    img = np.copy(sample[k])\n",
    "    img = augment(img, apply_resize = True, apply_flip = True, apply_rotation = True, apply_boldness = True, add_noise=True)\n",
    "    generated.append(img)\n",
    "    labels.append(sample_labels[k])"
   ]
  },
  {
   "cell_type": "code",
   "execution_count": null,
   "id": "a6877b10",
   "metadata": {},
   "outputs": [],
   "source": [
    "#Full random\n",
    "for i in tqdm(range(10)):\n",
    "    k = randint(0,len(sample)-1)\n",
    "    img = np.copy(sample[k])\n",
    "    img = augment(img, apply_resize = True, apply_rotation = True, padding_val = img[0,0], add_noise=True)\n",
    "    generated.append(img)\n",
    "    labels.append(sample_labels[k])"
   ]
  },
  {
   "cell_type": "code",
   "execution_count": null,
   "id": "5e407deb",
   "metadata": {},
   "outputs": [],
   "source": [
    "data = np.array(generated)\n",
    "data_labels = np.array(labels)"
   ]
  },
  {
   "cell_type": "code",
   "execution_count": null,
   "id": "2863c0b0",
   "metadata": {},
   "outputs": [],
   "source": [
    "#np.save(\"generated_data2\", data)\n",
    "#np.save(\"generated_data_labels2\", data_labels)"
   ]
  }
 ],
 "metadata": {
  "kernelspec": {
   "display_name": "Python 3 (ipykernel)",
   "language": "python",
   "name": "python3"
  },
  "language_info": {
   "codemirror_mode": {
    "name": "ipython",
    "version": 3
   },
   "file_extension": ".py",
   "mimetype": "text/x-python",
   "name": "python",
   "nbconvert_exporter": "python",
   "pygments_lexer": "ipython3",
   "version": "3.9.7"
  }
 },
 "nbformat": 4,
 "nbformat_minor": 5
}
