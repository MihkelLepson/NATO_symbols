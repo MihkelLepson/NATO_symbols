{
 "cells": [
  {
   "cell_type": "code",
   "execution_count": null,
   "id": "4331ea05",
   "metadata": {},
   "outputs": [],
   "source": [
    "import numpy as np\n",
    "import cv2\n",
    "from matplotlib import pylab as plt\n",
    "import random\n",
    "from random import randint\n",
    "from scipy import ndimage\n",
    "import os\n",
    "import re\n",
    "from tqdm import tqdm #For progressbar"
   ]
  },
  {
   "cell_type": "code",
   "execution_count": null,
   "id": "eed43f20",
   "metadata": {},
   "outputs": [],
   "source": [
    "sample = []\n",
    "sample_labels = []\n",
    "\n",
    "#Read in sample.\n",
    "for filename in os.listdir(\"data/\"):\n",
    "    img = cv2.imread(\"data/\" + filename,0)\n",
    "    #Remove excess rows and columns that appeared after rotation and padding\n",
    "    img = img[np.argwhere(np.amin(img,axis=1) < 120)[0][0]:np.argwhere(np.amin(img,axis=1) < 120)[-1][0],:]\n",
    "    img = img[:,np.argwhere(np.amin(img,axis=0) < 120)[0][0]:np.argwhere(np.amin(img,axis=0) < 120)[-1][0]]\n",
    "    sample.append(img)\n",
    "    sample_labels.append(re.findall('([a-zA-Z_ ]*)\\d*.*', filename)[0])"
   ]
  },
  {
   "cell_type": "code",
   "execution_count": null,
   "id": "d1831a30",
   "metadata": {},
   "outputs": [],
   "source": [
    "generated = []\n",
    "labels = []"
   ]
  },
  {
   "cell_type": "code",
   "execution_count": null,
   "id": "88d21054",
   "metadata": {},
   "outputs": [],
   "source": [
    "for i in tqdm(range(45)): #We apply rotation to all the images with 8 degrees intervals.\n",
    "    #Apply just the rotation.\n",
    "    for k in range(len(sample)):\n",
    "        img = np.copy(sample[k])\n",
    "        img = generate(img, apply_rotation = True, rotation = 8*i)\n",
    "        generated.append(img)\n",
    "        labels.append(sample_labels[k])\n",
    "    \n",
    "    #Apply rotation, resize and make lines bolder.\n",
    "    for k in range(len(sample)):\n",
    "        img = np.copy(sample[k])\n",
    "        img = generate(img, apply_resize = True, apply_rotation = True, rotation = 8*i, apply_boldness = True, boldness_dir = 1)\n",
    "        generated.append(img)\n",
    "        labels.append(sample_labels[k])\n",
    "    \n",
    "    #Apply rotation and flip.\n",
    "    for k in range(len(sample)):\n",
    "        img = np.copy(sample[k])\n",
    "        img = generate(img, apply_flip = True, flip_random = False, apply_rotation = True, rotation = 8*i)\n",
    "        generated.append(img)\n",
    "        labels.append(sample_labels[k])\n",
    "        \n",
    "    #Apply rotation and resize.\n",
    "    for k in range(len(sample)):\n",
    "        img = np.copy(sample[k])\n",
    "        img = generate(img, apply_resize = True, flip_random = False, apply_rotation = True, rotation = 8*i, add_noise=True)\n",
    "        generated.append(img)\n",
    "        labels.append(sample_labels[k])\n",
    "    \n",
    "    #Apply rotation, and tranformation.\n",
    "    for k in range(len(sample)):\n",
    "        img = np.copy(sample[k])\n",
    "        img = generate(img, apply_rotation = True, rotation = 8*i, apply_transformation = True, add_noise=True)\n",
    "        generated.append(img)\n",
    "        labels.append(sample_labels[k])\n",
    "        \n",
    "    #Apply rotation, tranformation and flip.\n",
    "    for k in range(len(sample)):\n",
    "        img = np.copy(sample[k])\n",
    "        img = generate(img, apply_flip = True, flip_random = False, apply_rotation = True, rotation = 8*i, apply_transformation = True)\n",
    "        generated.append(img)\n",
    "        labels.append(sample_labels[k])\n",
    "        \n",
    "    #Apply rotation, transformation, boldness and resize.\n",
    "    for k in range(len(sample)):\n",
    "        img = np.copy(sample[k])\n",
    "        img = generate(img, apply_resize = True, apply_rotation = True, rotation = 8*i, apply_boldness = True, add_noise=True)\n",
    "        generated.append(img)\n",
    "        labels.append(sample_labels[k])"
   ]
  },
  {
   "cell_type": "code",
   "execution_count": null,
   "id": "12dd02d0",
   "metadata": {},
   "outputs": [],
   "source": [
    "#Full random\n",
    "for i in tqdm(range(200000)):\n",
    "    k = randint(0,len(sample)-1)\n",
    "    img = np.copy(sample[k])\n",
    "    img = generate(img, apply_resize = True, apply_flip = True, apply_rotation = True, apply_boldness = True, add_noise=True)\n",
    "    generated.append(img)\n",
    "    labels.append(sample_labels[k])"
   ]
  },
  {
   "cell_type": "code",
   "execution_count": null,
   "id": "4edaca45",
   "metadata": {},
   "outputs": [],
   "source": [
    "data = np.array(generated)\n",
    "data_labels = np.array(labels)"
   ]
  },
  {
   "cell_type": "code",
   "execution_count": null,
   "id": "14f78354",
   "metadata": {},
   "outputs": [],
   "source": [
    "np.save(\"generated_data2\", data)\n",
    "np.save(\"generated_data_labels2\", data_labels)"
   ]
  }
 ],
 "metadata": {
  "kernelspec": {
   "display_name": "Python 3 (ipykernel)",
   "language": "python",
   "name": "python3"
  },
  "language_info": {
   "codemirror_mode": {
    "name": "ipython",
    "version": 3
   },
   "file_extension": ".py",
   "mimetype": "text/x-python",
   "name": "python",
   "nbconvert_exporter": "python",
   "pygments_lexer": "ipython3",
   "version": "3.9.7"
  }
 },
 "nbformat": 4,
 "nbformat_minor": 5
}
