{
 "cells": [
  {
   "cell_type": "code",
   "execution_count": 3,
   "id": "b67e9d81",
   "metadata": {},
   "outputs": [],
   "source": [
    "import numpy as np\n",
    "import cv2\n",
    "from matplotlib import pylab as plt\n",
    "from random import randint\n",
    "from tqdm import tqdm #For progressbar\n",
    "import os\n",
    "import re\n",
    "import generate"
   ]
  },
  {
   "cell_type": "code",
   "execution_count": 4,
   "id": "60132548",
   "metadata": {},
   "outputs": [],
   "source": [
    "sample = []\n",
    "sample_labels = []\n",
    "\n",
    "#Read in sample.\n",
    "for filename in os.listdir(\"data/\"):\n",
    "    img = cv2.imread(\"data/\" + filename,0)\n",
    "    #Remove excess rows and columns that appeared after rotation and padding\n",
    "    img = img[np.argwhere(np.amin(img,axis=1) < 120)[0][0]:np.argwhere(np.amin(img,axis=1) < 120)[-1][0],:]\n",
    "    img = img[:,np.argwhere(np.amin(img,axis=0) < 120)[0][0]:np.argwhere(np.amin(img,axis=0) < 120)[-1][0]]\n",
    "    sample.append(img)\n",
    "    sample_labels.append(re.findall('([a-zA-Z_ ]*)\\d*.*', filename)[0])"
   ]
  },
  {
   "cell_type": "code",
   "execution_count": 5,
   "id": "7aae502e",
   "metadata": {},
   "outputs": [],
   "source": [
    "generated = []\n",
    "labels = []"
   ]
  },
  {
   "cell_type": "code",
   "execution_count": null,
   "id": "84c65629",
   "metadata": {},
   "outputs": [],
   "source": [
    "for i in tqdm(range(45)): #We apply rotation to all the images with 8 degrees intervals.\n",
    "    #Apply just the rotation.\n",
    "    for k in range(len(sample)):\n",
    "        img = np.copy(sample[k])\n",
    "        img = generate(img, apply_rotation = True, rotation = 8*i)\n",
    "        generated.append(img)\n",
    "        labels.append(sample_labels[k])\n",
    "    \n",
    "    #Apply rotation, flip(random) and dilation.\n",
    "    for k in range(len(sample)):\n",
    "        img = np.copy(sample[k])\n",
    "        img = generate(img, apply_flip = True, apply_rotation = True, rotation = 8*i, apply_thickness = True, transformation_dir = 1)\n",
    "        generated.append(img)\n",
    "        labels.append(sample_labels[k])\n",
    "    \n",
    "    #Apply flip(always) and rotation\n",
    "    for k in range(len(sample)):\n",
    "        img = np.copy(sample[k])\n",
    "        img = generate(img, apply_flip = True, flip_random = False, apply_rotation = True, rotation = 8*i)\n",
    "        generated.append(img)\n",
    "        labels.append(sample_labels[k])\n",
    "        \n",
    "    #Apply resize, flip(random) and rotation\n",
    "    for k in range(len(sample)):\n",
    "        img = np.copy(sample[k])\n",
    "        img = generate(img, apply_resize = True, apply_flip = True, apply_rotation = True, rotation = 8*i)\n",
    "        generated.append(img)\n",
    "        labels.append(sample_labels[k])\n",
    "        \n",
    "    #Apply resize, flip(random), transformation and rotation(random) to random images\n",
    "    for k in range(40000):\n",
    "        select = randint(0,len(sample)-1)\n",
    "        img = np.copy(sample[select])\n",
    "        img = generate(img, apply_resize = True, apply_flip = True, apply_rotation = True, apply_thickness = True)\n",
    "        generated.append(img)\n",
    "        labels.append(sample_labels[k])"
   ]
  }
 ],
 "metadata": {
  "kernelspec": {
   "display_name": "Python 3 (ipykernel)",
   "language": "python",
   "name": "python3"
  },
  "language_info": {
   "codemirror_mode": {
    "name": "ipython",
    "version": 3
   },
   "file_extension": ".py",
   "mimetype": "text/x-python",
   "name": "python",
   "nbconvert_exporter": "python",
   "pygments_lexer": "ipython3",
   "version": "3.9.7"
  }
 },
 "nbformat": 4,
 "nbformat_minor": 5
}
