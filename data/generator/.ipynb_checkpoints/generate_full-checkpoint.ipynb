{
 "cells": [
  {
   "cell_type": "code",
   "execution_count": 1,
   "id": "3437c7a9",
   "metadata": {},
   "outputs": [],
   "source": [
    "import numpy as np\n",
    "import cv2\n",
    "from random import randint\n",
    "from scipy import ndimage\n",
    "import os\n",
    "import re\n",
    "from tqdm import tqdm #For progressbar\n",
    "from augment import augment"
   ]
  },
  {
   "cell_type": "code",
   "execution_count": 2,
   "id": "acfa46be",
   "metadata": {},
   "outputs": [],
   "source": [
    "sample = []\n",
    "sample_labels = []\n",
    "\n",
    "#Read in sample.\n",
    "for filename in os.listdir(\"data/\"):\n",
    "    img = cv2.imread(\"data/\" + filename,0)\n",
    "    #Remove excess rows and columns that appeared after rotation and padding\n",
    "    img = img[np.argwhere(np.amin(img,axis=1) < 120)[0][0]:np.argwhere(np.amin(img,axis=1) < 120)[-1][0],:]\n",
    "    img = img[:,np.argwhere(np.amin(img,axis=0) < 120)[0][0]:np.argwhere(np.amin(img,axis=0) < 120)[-1][0]]\n",
    "    sample.append(img)\n",
    "    sample_labels.append(re.findall('([a-zA-Z_ ]*)\\d*.*', filename)[0])"
   ]
  },
  {
   "cell_type": "code",
   "execution_count": 3,
   "id": "860d121e",
   "metadata": {},
   "outputs": [],
   "source": [
    "def generate_image(sample, sample_labels, dim = (1000,800)):\n",
    "    canvas = np.full(dim, 255) #Size of final image\n",
    "    locations = [] #Store location of the symbols\n",
    "    labels = [] #Store labels\n",
    "    for task in range(randint(3,6)): # Nr of symbols on image\n",
    "        select = randint(0,len(sample)-1)\n",
    "        img = np.copy(sample[select])\n",
    "        img = augment(img, apply_resize=True, apply_flip=True, apply_rotation=True, apply_transformation=True, apply_boldness=True)\n",
    "        labels.append(sample_labels[select])\n",
    "        #Get the random location on canvas\n",
    "        point1 = randint(0,dim[0]-img.shape[0])\n",
    "        point2 = randint(0,dim[1]-img.shape[1])\n",
    "        \n",
    "        #We append upper left corner point and lower right corner point.\n",
    "        locations.append(((point1,point2),(point1+img.shape[0],point2+img.shape[1])))\n",
    "        #If there is overlap we don't want to overwrite black pixels with white background.\n",
    "        canvas[point1:(point1+img.shape[0]),point2:(point2+img.shape[1])][img < 140] = img[img < 140]\n",
    "    return canvas, locations, labels\n"
   ]
  },
  {
   "cell_type": "code",
   "execution_count": 4,
   "id": "20a3443a",
   "metadata": {},
   "outputs": [
    {
     "name": "stderr",
     "output_type": "stream",
     "text": [
      "100%|████████████████████████████████████████████████████████████████████████████████| 100/100 [00:01<00:00, 52.84it/s]\n"
     ]
    }
   ],
   "source": [
    "dim = (1000,800)\n",
    "examples_nr = 100\n",
    "data = np.zeros((examples_nr,dim[0],dim[1]))\n",
    "data_labels = []\n",
    "data_locations = []\n",
    "for i in tqdm(range(examples_nr)):\n",
    "    data[i,:,:], loc, lab = generate_image(sample, sample_labels, dim)\n",
    "    data_labels.append(lab)\n",
    "    data_locations.append(loc)"
   ]
  },
  {
   "cell_type": "code",
   "execution_count": 5,
   "id": "35b11445",
   "metadata": {},
   "outputs": [],
   "source": [
    "from matplotlib import pylab as plt"
   ]
  },
  {
   "cell_type": "code",
   "execution_count": 6,
   "id": "82ddb945",
   "metadata": {},
   "outputs": [
    {
     "data": {
      "text/plain": [
       "<matplotlib.image.AxesImage at 0x29c4da4dd30>"
      ]
     },
     "execution_count": 6,
     "metadata": {},
     "output_type": "execute_result"
    },
    {
     "data": {
      "image/png": "[encoded data removed]",
      "text/plain": [
       "<Figure size 432x288 with 1 Axes>"
      ]
     },
     "metadata": {
      "needs_background": "light"
     },
     "output_type": "display_data"
    }
   ],
   "source": [
    "plt.imshow(data[0,:,:],cmap='gray')"
   ]
  },
  {
   "cell_type": "code",
   "execution_count": 7,
   "id": "8699fe5a",
   "metadata": {},
   "outputs": [
    {
     "data": {
      "text/plain": [
       "['cover', 'disrupt', 'secure']"
      ]
     },
     "execution_count": 7,
     "metadata": {},
     "output_type": "execute_result"
    }
   ],
   "source": [
    "data_labels[0]"
   ]
  },
  {
   "cell_type": "code",
   "execution_count": 9,
   "id": "1685fd3a",
   "metadata": {},
   "outputs": [
    {
     "data": {
      "text/plain": [
       "[((605, 313), (705, 413)), ((865, 335), (965, 435)), ((310, 187), (410, 287))]"
      ]
     },
     "execution_count": 9,
     "metadata": {},
     "output_type": "execute_result"
    }
   ],
   "source": [
    "data_locations[0]"
   ]
  },
  {
   "cell_type": "code",
   "execution_count": null,
   "id": "a71aee3c",
   "metadata": {},
   "outputs": [],
   "source": []
  }
 ],
 "metadata": {
  "kernelspec": {
   "display_name": "Python 3 (ipykernel)",
   "language": "python",
   "name": "python3"
  },
  "language_info": {
   "codemirror_mode": {
    "name": "ipython",
    "version": 3
   },
   "file_extension": ".py",
   "mimetype": "text/x-python",
   "name": "python",
   "nbconvert_exporter": "python",
   "pygments_lexer": "ipython3",
   "version": "3.9.7"
  }
 },
 "nbformat": 4,
 "nbformat_minor": 5
}
