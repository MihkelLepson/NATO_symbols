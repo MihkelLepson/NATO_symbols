{
 "cells": [
  {
   "cell_type": "markdown",
   "id": "c8b55e41",
   "metadata": {},
   "source": [
    "In generate 1 and 2 we used for input a binary valued images. In this one we use iamges that are converted only to gray scale."
   ]
  },
  {
   "cell_type": "code",
   "execution_count": null,
   "id": "de4b8dff",
   "metadata": {},
   "outputs": [],
   "source": [
    "import numpy as np\n",
    "import cv2\n",
    "from matplotlib import pylab as plt\n",
    "import random\n",
    "from random import randint\n",
    "from scipy import ndimage\n",
    "import os\n",
    "import re\n",
    "from tqdm import tqdm #For progressbar"
   ]
  },
  {
   "cell_type": "code",
   "execution_count": null,
   "id": "19e30961",
   "metadata": {},
   "outputs": [],
   "source": [
    "images = []\n",
    "filenames = []\n",
    "\n",
    "#Read in sample.\n",
    "for filename in os.listdir(\"../symbols_raw/symbols1/\"):\n",
    "    img = cv2.imread(\"../symbols_raw/symbols1/\" + filename)\n",
    "    images.append(cv2.cvtColor(img, cv2.COLOR_BGR2GRAY))\n",
    "    filenames.append(filename)"
   ]
  }
 ],
 "metadata": {
  "kernelspec": {
   "display_name": "Python 3 (ipykernel)",
   "language": "python",
   "name": "python3"
  },
  "language_info": {
   "codemirror_mode": {
    "name": "ipython",
    "version": 3
   },
   "file_extension": ".py",
   "mimetype": "text/x-python",
   "name": "python",
   "nbconvert_exporter": "python",
   "pygments_lexer": "ipython3",
   "version": "3.9.7"
  }
 },
 "nbformat": 4,
 "nbformat_minor": 5
}
