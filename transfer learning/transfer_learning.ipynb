{
 "cells": [
  {
   "cell_type": "code",
   "execution_count": 12,
   "metadata": {
    "collapsed": true
   },
   "outputs": [],
   "source": [
    "import numpy as np\n",
    "import tensorflow as tf\n",
    "from tensorflow import keras\n",
    "import os\n",
    "import cv2\n",
    "import re\n",
    "from sklearn.metrics import confusion_matrix, ConfusionMatrixDisplay\n",
    "from scipy import ndimage"
   ]
  },
  {
   "cell_type": "markdown",
   "source": [
    "### #1"
   ],
   "metadata": {
    "collapsed": false,
    "pycharm": {
     "name": "#%% md\n"
    }
   }
  },
  {
   "cell_type": "code",
   "execution_count": 13,
   "outputs": [],
   "source": [
    "# X_train = np.load(\"../data/generator/generated_data.npy\")\n",
    "# Y_train = np.load(\"../data/generator/generated_data_labels.npy\")\n",
    "#\n",
    "# X_train.shape, Y_train.shape"
   ],
   "metadata": {
    "collapsed": false,
    "pycharm": {
     "name": "#%%\n"
    }
   }
  },
  {
   "cell_type": "code",
   "execution_count": 14,
   "outputs": [],
   "source": [
    "# X_train_ = np.repeat(X_train[..., np.newaxis], 3, -1)\n",
    "# X_train_.shape"
   ],
   "metadata": {
    "collapsed": false,
    "pycharm": {
     "name": "#%%\n"
    }
   }
  },
  {
   "cell_type": "code",
   "execution_count": 15,
   "outputs": [],
   "source": [
    "# y_train = np.zeros(Y_train.shape)\n",
    "#\n",
    "# y_train[Y_train == \"attack\"] = 1\n",
    "# y_train[Y_train == \"block\"] = 2\n",
    "# y_train[Y_train == \"counterattack\"] = 3\n",
    "# y_train[Y_train == \"cover\"] = 4\n",
    "# y_train[Y_train == \"delay\"] = 5\n",
    "# y_train[Y_train == \"destroy\"] = 6\n",
    "# y_train[Y_train == \"disrupt\"] = 7\n",
    "# y_train[Y_train == \"guard\"] = 8\n",
    "# y_train[Y_train == \"occupy\"] = 9\n",
    "# y_train[Y_train == \"retain\"] = 10\n",
    "# y_train[Y_train == \"screen\"] = 11\n",
    "# y_train[Y_train == \"secure\"] = 12\n",
    "# y_train[Y_train == \"seize\"] = 13\n",
    "# y_train[Y_train == \"support_by_fire\"] = 14"
   ],
   "metadata": {
    "collapsed": false,
    "pycharm": {
     "name": "#%%\n"
    }
   }
  },
  {
   "cell_type": "markdown",
   "source": [
    "### #2"
   ],
   "metadata": {
    "collapsed": false,
    "pycharm": {
     "name": "#%% md\n"
    }
   }
  },
  {
   "cell_type": "code",
   "execution_count": 55,
   "outputs": [
    {
     "data": {
      "text/plain": "((18000, 100, 100, 3), (18000,))"
     },
     "execution_count": 55,
     "metadata": {},
     "output_type": "execute_result"
    }
   ],
   "source": [
    "Y_train = []\n",
    "X_train = []\n",
    "\n",
    "for angle in ([0, 45, 90, 135, 180, 225, 270, 315]):\n",
    "    for filename in os.listdir(\"./train_data/\"):\n",
    "        img = cv2.imread(\"./train_data/\" + filename)\n",
    "        img2 = ndimage.rotate(img, angle, mode = \"constant\", cval = 255)\n",
    "        img3 = cv2.resize(img2, [100,100])\n",
    "        name = re.findall('([a-zA-Z_ ]*)\\d*.*', filename)[0]\n",
    "        X_train.append(img3)\n",
    "        Y_train.append(name)\n",
    "\n",
    "sharpening = np.array([[-1, -1, -1],\n",
    "                       [-1, 10, -1],\n",
    "                       [-1, -1, -1]])\n",
    "\n",
    "for angle in ([0, 45, 90, 135, 180, 225, 270, 315]):\n",
    "    for filename in os.listdir(\"./train_data/\"):\n",
    "        img = cv2.imread(\"./train_data/\" + filename)\n",
    "        img2 = ndimage.rotate(img, angle, mode = \"constant\", cval = 255)\n",
    "        img3 = cv2.resize(img2, [100,100])\n",
    "        img4 = cv2.filter2D(img3, -1, sharpening)\n",
    "        name = re.findall('([a-zA-Z_ ]*)\\d*.*', filename)[0]\n",
    "        X_train.append(img4)\n",
    "        Y_train.append(name)\n",
    "\n",
    "for angle in ([0, 45, 90, 135, 180, 225, 270, 315]):\n",
    "    for filename in os.listdir(\"./train_data/\"):\n",
    "        img = cv2.imread(\"./train_data/\" + filename)\n",
    "        img2 = ndimage.rotate(img, angle, mode = \"constant\", cval = 255)\n",
    "        img3 = cv2.resize(img2, [100,100])\n",
    "        img4 = cv2.flip(img3, 0)\n",
    "        name = re.findall('([a-zA-Z_ ]*)\\d*.*', filename)[0]\n",
    "        X_train.append(img4)\n",
    "        Y_train.append(name)\n",
    "\n",
    "for angle in ([0, 45, 90, 135, 180, 225, 270, 315]):\n",
    "    for filename in os.listdir(\"./train_data/\"):\n",
    "        img = cv2.imread(\"./train_data/\" + filename)\n",
    "        img2 = ndimage.rotate(img, angle, mode = \"constant\", cval = 255)\n",
    "        img3 = cv2.resize(img2, [100,100])\n",
    "        img4 = cv2.flip(img3, 1)\n",
    "        name = re.findall('([a-zA-Z_ ]*)\\d*.*', filename)[0]\n",
    "        X_train.append(img4)\n",
    "        Y_train.append(name)\n",
    "\n",
    "for angle in ([0, 45, 90, 135, 180, 225, 270, 315]):\n",
    "    for filename in os.listdir(\"./train_data/\"):\n",
    "        img = cv2.imread(\"./train_data/\" + filename)\n",
    "        img2 = ndimage.rotate(img, angle, mode = \"constant\", cval = 255)\n",
    "        img3 = cv2.resize(img2, [100,100])\n",
    "        # Gaussian noise\n",
    "        gauss = np.random.normal(0, 1, img3.size)\n",
    "        gauss = gauss.reshape(img3.shape[0], img3.shape[1], img3.shape[2]).astype('uint8')\n",
    "        img4 = cv2.add(img, gauss)\n",
    "        name = re.findall('([a-zA-Z_ ]*)\\d*.*', filename)[0]\n",
    "        X_train.append(img4)\n",
    "        Y_train.append(name)\n",
    "\n",
    "X_train = np.array(X_train)\n",
    "Y_train = np.array(Y_train)\n",
    "X_train.shape, Y_train.shape"
   ],
   "metadata": {
    "collapsed": false,
    "pycharm": {
     "name": "#%%\n"
    }
   }
  },
  {
   "cell_type": "code",
   "execution_count": 60,
   "outputs": [],
   "source": [
    "X_train = X_train / 255."
   ],
   "metadata": {
    "collapsed": false,
    "pycharm": {
     "name": "#%%\n"
    }
   }
  },
  {
   "cell_type": "code",
   "execution_count": 61,
   "outputs": [],
   "source": [
    "y_train = np.zeros(Y_train.shape)\n",
    "\n",
    "y_train[Y_train == \"attack\"] = 1\n",
    "y_train[Y_train == \"block\"] = 2\n",
    "y_train[Y_train == \"counterattack\"] = 3\n",
    "y_train[Y_train == \"cover\"] = 4\n",
    "y_train[Y_train == \"delay\"] = 5\n",
    "y_train[Y_train == \"destroy\"] = 6\n",
    "y_train[Y_train == \"disrupt\"] = 7\n",
    "y_train[Y_train == \"guard\"] = 8\n",
    "y_train[Y_train == \"occupy\"] = 9\n",
    "y_train[Y_train == \"retain\"] = 10\n",
    "y_train[Y_train == \"screen\"] = 11\n",
    "y_train[Y_train == \"secure\"] = 12\n",
    "y_train[Y_train == \"seize\"] = 13\n",
    "y_train[Y_train == \"support_by_fire\"] = 14"
   ],
   "metadata": {
    "collapsed": false,
    "pycharm": {
     "name": "#%%\n"
    }
   }
  },
  {
   "cell_type": "code",
   "execution_count": 62,
   "outputs": [],
   "source": [
    "np.random.RandomState(seed=22).shuffle(X_train)\n",
    "np.random.RandomState(seed=22).shuffle(y_train)"
   ],
   "metadata": {
    "collapsed": false,
    "pycharm": {
     "name": "#%%\n"
    }
   }
  },
  {
   "cell_type": "markdown",
   "source": [
    "## Model"
   ],
   "metadata": {
    "collapsed": false,
    "pycharm": {
     "name": "#%% md\n"
    }
   }
  },
  {
   "cell_type": "code",
   "execution_count": 67,
   "outputs": [],
   "source": [
    "base_model = keras.applications.Xception(\n",
    "    weights='imagenet',\n",
    "    input_shape=(100, 100, 3),\n",
    "    include_top=False)\n",
    "\n",
    "base_model.trainable = False"
   ],
   "metadata": {
    "collapsed": false,
    "pycharm": {
     "name": "#%%\n"
    }
   }
  },
  {
   "cell_type": "code",
   "execution_count": 68,
   "outputs": [],
   "source": [
    "inputs = keras.Input(shape=(100, 100, 3))\n",
    "\n",
    "x = base_model(inputs, training=False)\n",
    "x = keras.layers.Dense(256, activation = \"relu\")(x)\n",
    "x = keras.layers.Flatten()(x)\n",
    "outputs = keras.layers.Dense(15, activation = \"softmax\")(x)\n",
    "model = keras.Model(inputs, outputs)"
   ],
   "metadata": {
    "collapsed": false,
    "pycharm": {
     "name": "#%%\n"
    }
   }
  },
  {
   "cell_type": "code",
   "execution_count": 69,
   "outputs": [
    {
     "name": "stdout",
     "output_type": "stream",
     "text": [
      "Epoch 1/10\n",
      "282/282 [==============================] - 101s 354ms/step - loss: 0.6578 - accuracy: 0.7812\n",
      "Epoch 2/10\n",
      "282/282 [==============================] - 100s 356ms/step - loss: 0.2475 - accuracy: 0.9076\n",
      "Epoch 3/10\n",
      "282/282 [==============================] - 101s 359ms/step - loss: 0.1646 - accuracy: 0.9409\n",
      "Epoch 4/10\n",
      "282/282 [==============================] - 100s 356ms/step - loss: 0.1118 - accuracy: 0.9626\n",
      "Epoch 5/10\n",
      "282/282 [==============================] - 100s 355ms/step - loss: 0.0904 - accuracy: 0.9702\n",
      "Epoch 6/10\n",
      "282/282 [==============================] - 101s 357ms/step - loss: 0.0848 - accuracy: 0.9752\n",
      "Epoch 7/10\n",
      "282/282 [==============================] - 101s 357ms/step - loss: 0.0613 - accuracy: 0.9801\n",
      "Epoch 8/10\n",
      "282/282 [==============================] - 101s 359ms/step - loss: 0.0576 - accuracy: 0.9828\n",
      "Epoch 9/10\n",
      "282/282 [==============================] - 100s 356ms/step - loss: 0.0361 - accuracy: 0.9899\n",
      "Epoch 10/10\n",
      "282/282 [==============================] - 101s 360ms/step - loss: 0.0232 - accuracy: 0.9924\n"
     ]
    },
    {
     "data": {
      "text/plain": "<keras.callbacks.History at 0x24cf0516f70>"
     },
     "execution_count": 69,
     "metadata": {},
     "output_type": "execute_result"
    }
   ],
   "source": [
    "model.compile(optimizer=keras.optimizers.Adam(),\n",
    "              loss=keras.losses.SparseCategoricalCrossentropy(),\n",
    "              metrics=[\"accuracy\"])\n",
    "model.fit(X_train, y_train, batch_size=64, epochs=10)"
   ],
   "metadata": {
    "collapsed": false,
    "pycharm": {
     "name": "#%%\n"
    }
   }
  },
  {
   "cell_type": "code",
   "execution_count": 70,
   "outputs": [
    {
     "name": "stdout",
     "output_type": "stream",
     "text": [
      "Model: \"model_5\"\n",
      "_________________________________________________________________\n",
      " Layer (type)                Output Shape              Param #   \n",
      "=================================================================\n",
      " input_12 (InputLayer)       [(None, 100, 100, 3)]     0         \n",
      "                                                                 \n",
      " xception (Functional)       (None, 3, 3, 2048)        20861480  \n",
      "                                                                 \n",
      " dense_10 (Dense)            (None, 3, 3, 256)         524544    \n",
      "                                                                 \n",
      " flatten_5 (Flatten)         (None, 2304)              0         \n",
      "                                                                 \n",
      " dense_11 (Dense)            (None, 15)                34575     \n",
      "                                                                 \n",
      "=================================================================\n",
      "Total params: 21,420,599\n",
      "Trainable params: 559,119\n",
      "Non-trainable params: 20,861,480\n",
      "_________________________________________________________________\n"
     ]
    }
   ],
   "source": [
    "model.summary()"
   ],
   "metadata": {
    "collapsed": false,
    "pycharm": {
     "name": "#%%\n"
    }
   }
  },
  {
   "cell_type": "markdown",
   "source": [
    "## Testing"
   ],
   "metadata": {
    "collapsed": false,
    "pycharm": {
     "name": "#%% md\n"
    }
   }
  },
  {
   "cell_type": "code",
   "execution_count": 71,
   "outputs": [],
   "source": [
    "X_test = []\n",
    "Y_test = []\n",
    "\n",
    "for filename in os.listdir(\"./test_data/\"):\n",
    "    img = cv2.imread(\"./test_data/\" + filename)\n",
    "    name = re.findall('([a-zA-Z_ ]*)\\d*.*', filename)[0]\n",
    "    X_test.append(img)\n",
    "    Y_test.append(name)\n",
    "\n",
    "X_test = np.array(X_test)\n",
    "Y_test = np.array(Y_test)"
   ],
   "metadata": {
    "collapsed": false,
    "pycharm": {
     "name": "#%%\n"
    }
   }
  },
  {
   "cell_type": "code",
   "execution_count": 72,
   "outputs": [],
   "source": [
    "X_test = X_test / 255."
   ],
   "metadata": {
    "collapsed": false,
    "pycharm": {
     "name": "#%%\n"
    }
   }
  },
  {
   "cell_type": "code",
   "execution_count": 73,
   "outputs": [],
   "source": [
    "y_test = np.zeros(Y_test.shape)\n",
    "\n",
    "y_test[Y_test == \"attack\"] = 1\n",
    "y_test[Y_test == \"block\"] = 2\n",
    "y_test[Y_test == \"counterattack\"] = 3\n",
    "y_test[Y_test == \"cover\"] = 4\n",
    "y_test[Y_test == \"delay\"] = 5\n",
    "y_test[Y_test == \"destroy\"] = 6\n",
    "y_test[Y_test == \"disrupt\"] = 7\n",
    "y_test[Y_test == \"guard\"] = 8\n",
    "y_test[Y_test == \"occupy\"] = 9\n",
    "y_test[Y_test == \"retain\"] = 10\n",
    "y_test[Y_test == \"screen\"] = 11\n",
    "y_test[Y_test == \"secure\"] = 12\n",
    "y_test[Y_test == \"seize\"] = 13\n",
    "y_test[Y_test == \"support_by_fire\"] = 14"
   ],
   "metadata": {
    "collapsed": false,
    "pycharm": {
     "name": "#%%\n"
    }
   }
  },
  {
   "cell_type": "code",
   "execution_count": 74,
   "outputs": [
    {
     "name": "stdout",
     "output_type": "stream",
     "text": [
      "19/19 [==============================] - 4s 177ms/step - loss: 2.5515 - accuracy: 0.5316\n"
     ]
    },
    {
     "data": {
      "text/plain": "[2.551461696624756, 0.5316239595413208]"
     },
     "execution_count": 74,
     "metadata": {},
     "output_type": "execute_result"
    }
   ],
   "source": [
    "model.evaluate(X_test, y_test)"
   ],
   "metadata": {
    "collapsed": false,
    "pycharm": {
     "name": "#%%\n"
    }
   }
  },
  {
   "cell_type": "code",
   "execution_count": 75,
   "outputs": [
    {
     "name": "stdout",
     "output_type": "stream",
     "text": [
      "Correct: 311\n",
      "Total: 585\n",
      "Acc: 0.5316239316239316\n"
     ]
    }
   ],
   "source": [
    "preds = model.predict(X_test)\n",
    "\n",
    "correct = np.sum(np.abs(np.argmax(preds, axis=1)-y_test) == 0)\n",
    "print(\"Correct: \" + str(correct))\n",
    "print(\"Total: \" + str(X_test.shape[0]))\n",
    "print(\"Acc: \" + str(correct/X_test.shape[0]))"
   ],
   "metadata": {
    "collapsed": false,
    "pycharm": {
     "name": "#%%\n"
    }
   }
  },
  {
   "cell_type": "code",
   "execution_count": 76,
   "outputs": [],
   "source": [
    "cm = confusion_matrix(y_test, np.argmax(preds, axis=1))"
   ],
   "metadata": {
    "collapsed": false,
    "pycharm": {
     "name": "#%%\n"
    }
   }
  },
  {
   "cell_type": "code",
   "execution_count": 77,
   "outputs": [
    {
     "data": {
      "text/plain": "<sklearn.metrics._plot.confusion_matrix.ConfusionMatrixDisplay at 0x24cee2e9100>"
     },
     "execution_count": 77,
     "metadata": {},
     "output_type": "execute_result"
    },
    {
     "data": {
      "text/plain": "<Figure size 432x288 with 2 Axes>",
      "image/png": "[encoded data removed]"
     },
     "metadata": {
      "needs_background": "light"
     },
     "output_type": "display_data"
    }
   ],
   "source": [
    "disp = ConfusionMatrixDisplay(confusion_matrix=cm, display_labels = [\"advance_to_contact\",\n",
    "                                                            \"attack\",\n",
    "                                                            \"block\",\n",
    "                                                            \"counterattack\",\n",
    "                                                            \"cover\",\n",
    "                                                            \"delay\",\n",
    "                                                            \"destroy\",\n",
    "                                                            \"disrupt\",\n",
    "                                                            \"guard\",\n",
    "                                                            \"occupy\",\n",
    "                                                            \"retain\",\n",
    "                                                            \"screen\",\n",
    "                                                            \"secure\",\n",
    "                                                            \"seize\",\n",
    "                                                            \"support_by_fire\"])\n",
    "\n",
    "disp.plot(xticks_rotation= \"vertical\")"
   ],
   "metadata": {
    "collapsed": false,
    "pycharm": {
     "name": "#%%\n"
    }
   }
  }
 ],
 "metadata": {
  "kernelspec": {
   "display_name": "Python 3",
   "language": "python",
   "name": "python3"
  },
  "language_info": {
   "codemirror_mode": {
    "name": "ipython",
    "version": 2
   },
   "file_extension": ".py",
   "mimetype": "text/x-python",
   "name": "python",
   "nbconvert_exporter": "python",
   "pygments_lexer": "ipython2",
   "version": "2.7.6"
  }
 },
 "nbformat": 4,
 "nbformat_minor": 0
}