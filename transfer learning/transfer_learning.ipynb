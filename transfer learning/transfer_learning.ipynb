{
 "cells": [
  {
   "cell_type": "code",
   "execution_count": 12,
   "metadata": {
    "collapsed": true
   },
   "outputs": [],
   "source": [
    "import numpy as np\n",
    "import tensorflow as tf\n",
    "from tensorflow import keras\n",
    "import os\n",
    "import cv2\n",
    "import re\n",
    "from sklearn.metrics import confusion_matrix, ConfusionMatrixDisplay\n",
    "from scipy import ndimage"
   ]
  },
  {
   "cell_type": "markdown",
   "source": [
    "### #1"
   ],
   "metadata": {
    "collapsed": false,
    "pycharm": {
     "name": "#%% md\n"
    }
   }
  },
  {
   "cell_type": "code",
   "execution_count": 13,
   "outputs": [],
   "source": [
    "# X_train = np.load(\"../data/generator/generated_data.npy\")\n",
    "# Y_train = np.load(\"../data/generator/generated_data_labels.npy\")\n",
    "#\n",
    "# X_train.shape, Y_train.shape"
   ],
   "metadata": {
    "collapsed": false,
    "pycharm": {
     "name": "#%%\n"
    }
   }
  },
  {
   "cell_type": "code",
   "execution_count": 14,
   "outputs": [],
   "source": [
    "# X_train_ = np.repeat(X_train[..., np.newaxis], 3, -1)\n",
    "# X_train_.shape"
   ],
   "metadata": {
    "collapsed": false,
    "pycharm": {
     "name": "#%%\n"
    }
   }
  },
  {
   "cell_type": "code",
   "execution_count": 15,
   "outputs": [],
   "source": [
    "# y_train = np.zeros(Y_train.shape)\n",
    "#\n",
    "# y_train[Y_train == \"attack\"] = 1\n",
    "# y_train[Y_train == \"block\"] = 2\n",
    "# y_train[Y_train == \"counterattack\"] = 3\n",
    "# y_train[Y_train == \"cover\"] = 4\n",
    "# y_train[Y_train == \"delay\"] = 5\n",
    "# y_train[Y_train == \"destroy\"] = 6\n",
    "# y_train[Y_train == \"disrupt\"] = 7\n",
    "# y_train[Y_train == \"guard\"] = 8\n",
    "# y_train[Y_train == \"occupy\"] = 9\n",
    "# y_train[Y_train == \"retain\"] = 10\n",
    "# y_train[Y_train == \"screen\"] = 11\n",
    "# y_train[Y_train == \"secure\"] = 12\n",
    "# y_train[Y_train == \"seize\"] = 13\n",
    "# y_train[Y_train == \"support_by_fire\"] = 14"
   ],
   "metadata": {
    "collapsed": false,
    "pycharm": {
     "name": "#%%\n"
    }
   }
  },
  {
   "cell_type": "markdown",
   "source": [
    "### #2"
   ],
   "metadata": {
    "collapsed": false,
    "pycharm": {
     "name": "#%% md\n"
    }
   }
  },
  {
   "cell_type": "code",
   "execution_count": 40,
   "outputs": [
    {
     "data": {
      "text/plain": "((7200, 100, 100, 3), (7200,))"
     },
     "execution_count": 40,
     "metadata": {},
     "output_type": "execute_result"
    }
   ],
   "source": [
    "Y_train = []\n",
    "X_train = []\n",
    "\n",
    "for angle in ([0, 45, 90, 135, 180, 225, 270, 315]):\n",
    "    for filename in os.listdir(\"./train_data/\"):\n",
    "        img = cv2.imread(\"./train_data/\" + filename)\n",
    "        img2 = ndimage.rotate(img, angle, mode = \"constant\", cval = 255)\n",
    "        img3 = cv2.resize(img2, [100,100])\n",
    "        name = re.findall('([a-zA-Z_ ]*)\\d*.*', filename)[0]\n",
    "        X_train.append(img3)\n",
    "        Y_train.append(name)\n",
    "\n",
    "sharpening = np.array([[-1, -1, -1],\n",
    "                       [-1, 10, -1],\n",
    "                       [-1, -1, -1]])\n",
    "\n",
    "for angle in ([0, 45, 90, 135, 180, 225, 270, 315]):\n",
    "    for filename in os.listdir(\"./train_data/\"):\n",
    "        img = cv2.imread(\"./train_data/\" + filename)\n",
    "        img2 = ndimage.rotate(img, angle, mode = \"constant\", cval = 255)\n",
    "        img3 = cv2.resize(img2, [100,100])\n",
    "        img4 = cv2.filter2D(img3, -1, sharpening)\n",
    "        name = re.findall('([a-zA-Z_ ]*)\\d*.*', filename)[0]\n",
    "        X_train.append(img3)\n",
    "        Y_train.append(name)\n",
    "\n",
    "X_train = np.array(X_train)\n",
    "Y_train = np.array(Y_train)\n",
    "X_train.shape, Y_train.shape"
   ],
   "metadata": {
    "collapsed": false,
    "pycharm": {
     "name": "#%%\n"
    }
   }
  },
  {
   "cell_type": "code",
   "execution_count": 41,
   "outputs": [],
   "source": [
    "X_train = X_train / 255."
   ],
   "metadata": {
    "collapsed": false,
    "pycharm": {
     "name": "#%%\n"
    }
   }
  },
  {
   "cell_type": "code",
   "execution_count": 42,
   "outputs": [],
   "source": [
    "y_train = np.zeros(Y_train.shape)\n",
    "\n",
    "y_train[Y_train == \"attack\"] = 1\n",
    "y_train[Y_train == \"block\"] = 2\n",
    "y_train[Y_train == \"counterattack\"] = 3\n",
    "y_train[Y_train == \"cover\"] = 4\n",
    "y_train[Y_train == \"delay\"] = 5\n",
    "y_train[Y_train == \"destroy\"] = 6\n",
    "y_train[Y_train == \"disrupt\"] = 7\n",
    "y_train[Y_train == \"guard\"] = 8\n",
    "y_train[Y_train == \"occupy\"] = 9\n",
    "y_train[Y_train == \"retain\"] = 10\n",
    "y_train[Y_train == \"screen\"] = 11\n",
    "y_train[Y_train == \"secure\"] = 12\n",
    "y_train[Y_train == \"seize\"] = 13\n",
    "y_train[Y_train == \"support_by_fire\"] = 14"
   ],
   "metadata": {
    "collapsed": false,
    "pycharm": {
     "name": "#%%\n"
    }
   }
  },
  {
   "cell_type": "code",
   "execution_count": 43,
   "outputs": [],
   "source": [
    "np.random.RandomState(seed=22).shuffle(X_train)\n",
    "np.random.RandomState(seed=22).shuffle(y_train)"
   ],
   "metadata": {
    "collapsed": false,
    "pycharm": {
     "name": "#%%\n"
    }
   }
  },
  {
   "cell_type": "markdown",
   "source": [
    "## Model"
   ],
   "metadata": {
    "collapsed": false,
    "pycharm": {
     "name": "#%% md\n"
    }
   }
  },
  {
   "cell_type": "code",
   "execution_count": 44,
   "outputs": [],
   "source": [
    "base_model = keras.applications.Xception(\n",
    "    weights='imagenet',\n",
    "    input_shape=(100, 100, 3),\n",
    "    include_top=False)\n",
    "\n",
    "base_model.trainable = False"
   ],
   "metadata": {
    "collapsed": false,
    "pycharm": {
     "name": "#%%\n"
    }
   }
  },
  {
   "cell_type": "code",
   "execution_count": 45,
   "outputs": [],
   "source": [
    "inputs = keras.Input(shape=(100, 100, 3))\n",
    "\n",
    "x = base_model(inputs, training=False)\n",
    "x = keras.layers.Dense(256, activation = \"relu\")(x)\n",
    "x = keras.layers.Flatten()(x)\n",
    "outputs = keras.layers.Dense(15, activation = \"softmax\")(x)\n",
    "model = keras.Model(inputs, outputs)"
   ],
   "metadata": {
    "collapsed": false,
    "pycharm": {
     "name": "#%%\n"
    }
   }
  },
  {
   "cell_type": "code",
   "execution_count": 46,
   "outputs": [
    {
     "name": "stdout",
     "output_type": "stream",
     "text": [
      "Epoch 1/30\n",
      "113/113 [==============================] - 38s 326ms/step - loss: 0.9025 - accuracy: 0.7136\n",
      "Epoch 2/30\n",
      "113/113 [==============================] - 35s 313ms/step - loss: 0.3164 - accuracy: 0.8890\n",
      "Epoch 3/30\n",
      "113/113 [==============================] - 36s 315ms/step - loss: 0.1748 - accuracy: 0.9444\n",
      "Epoch 4/30\n",
      "113/113 [==============================] - 36s 323ms/step - loss: 0.1333 - accuracy: 0.9554\n",
      "Epoch 5/30\n",
      "113/113 [==============================] - 35s 312ms/step - loss: 0.0877 - accuracy: 0.9736\n",
      "Epoch 6/30\n",
      "113/113 [==============================] - 35s 312ms/step - loss: 0.0609 - accuracy: 0.9843\n",
      "Epoch 7/30\n",
      "113/113 [==============================] - 35s 314ms/step - loss: 0.0338 - accuracy: 0.9928\n",
      "Epoch 8/30\n",
      "113/113 [==============================] - 35s 312ms/step - loss: 0.0272 - accuracy: 0.9946\n",
      "Epoch 9/30\n",
      "113/113 [==============================] - 36s 314ms/step - loss: 0.0280 - accuracy: 0.9935\n",
      "Epoch 10/30\n",
      "113/113 [==============================] - 35s 313ms/step - loss: 0.0427 - accuracy: 0.9879\n",
      "Epoch 11/30\n",
      "113/113 [==============================] - 35s 314ms/step - loss: 0.0127 - accuracy: 0.9982\n",
      "Epoch 12/30\n",
      "113/113 [==============================] - 37s 323ms/step - loss: 0.0114 - accuracy: 0.9978\n",
      "Epoch 13/30\n",
      "113/113 [==============================] - 36s 315ms/step - loss: 0.0038 - accuracy: 1.0000\n",
      "Epoch 14/30\n",
      "113/113 [==============================] - 36s 316ms/step - loss: 0.0025 - accuracy: 1.0000\n",
      "Epoch 15/30\n",
      "113/113 [==============================] - 37s 327ms/step - loss: 0.0020 - accuracy: 1.0000\n",
      "Epoch 16/30\n",
      "113/113 [==============================] - 36s 317ms/step - loss: 0.0016 - accuracy: 1.0000\n",
      "Epoch 17/30\n",
      "113/113 [==============================] - 36s 320ms/step - loss: 0.0014 - accuracy: 1.0000\n",
      "Epoch 18/30\n",
      "113/113 [==============================] - 36s 322ms/step - loss: 0.0012 - accuracy: 1.0000\n",
      "Epoch 19/30\n",
      "113/113 [==============================] - 36s 322ms/step - loss: 0.0010 - accuracy: 1.0000\n",
      "Epoch 20/30\n",
      "113/113 [==============================] - 37s 322ms/step - loss: 9.1403e-04 - accuracy: 1.0000\n",
      "Epoch 21/30\n",
      "113/113 [==============================] - 36s 316ms/step - loss: 8.1078e-04 - accuracy: 1.0000\n",
      "Epoch 22/30\n",
      "113/113 [==============================] - 36s 321ms/step - loss: 7.0728e-04 - accuracy: 1.0000\n",
      "Epoch 23/30\n",
      "113/113 [==============================] - 36s 316ms/step - loss: 6.2599e-04 - accuracy: 1.0000\n",
      "Epoch 24/30\n",
      "113/113 [==============================] - 36s 314ms/step - loss: 5.6847e-04 - accuracy: 1.0000\n",
      "Epoch 25/30\n",
      "113/113 [==============================] - 36s 319ms/step - loss: 5.0508e-04 - accuracy: 1.0000\n",
      "Epoch 26/30\n",
      "113/113 [==============================] - 35s 312ms/step - loss: 4.5652e-04 - accuracy: 1.0000\n",
      "Epoch 27/30\n",
      "113/113 [==============================] - 35s 312ms/step - loss: 4.1574e-04 - accuracy: 1.0000\n",
      "Epoch 28/30\n",
      "113/113 [==============================] - 36s 314ms/step - loss: 3.7013e-04 - accuracy: 1.0000\n",
      "Epoch 29/30\n",
      "113/113 [==============================] - 35s 311ms/step - loss: 3.3678e-04 - accuracy: 1.0000\n",
      "Epoch 30/30\n",
      "113/113 [==============================] - 36s 319ms/step - loss: 3.0792e-04 - accuracy: 1.0000\n"
     ]
    },
    {
     "data": {
      "text/plain": "<keras.callbacks.History at 0x24cecc46cd0>"
     },
     "execution_count": 46,
     "metadata": {},
     "output_type": "execute_result"
    }
   ],
   "source": [
    "model.compile(optimizer=keras.optimizers.Adam(),\n",
    "              loss=keras.losses.SparseCategoricalCrossentropy(),\n",
    "              metrics=[\"accuracy\"])\n",
    "model.fit(X_train, y_train, batch_size=64, epochs=30)"
   ],
   "metadata": {
    "collapsed": false,
    "pycharm": {
     "name": "#%%\n"
    }
   }
  },
  {
   "cell_type": "code",
   "execution_count": 47,
   "outputs": [
    {
     "name": "stdout",
     "output_type": "stream",
     "text": [
      "Model: \"model_3\"\n",
      "_________________________________________________________________\n",
      " Layer (type)                Output Shape              Param #   \n",
      "=================================================================\n",
      " input_8 (InputLayer)        [(None, 100, 100, 3)]     0         \n",
      "                                                                 \n",
      " xception (Functional)       (None, 3, 3, 2048)        20861480  \n",
      "                                                                 \n",
      " dense_6 (Dense)             (None, 3, 3, 256)         524544    \n",
      "                                                                 \n",
      " flatten_3 (Flatten)         (None, 2304)              0         \n",
      "                                                                 \n",
      " dense_7 (Dense)             (None, 15)                34575     \n",
      "                                                                 \n",
      "=================================================================\n",
      "Total params: 21,420,599\n",
      "Trainable params: 559,119\n",
      "Non-trainable params: 20,861,480\n",
      "_________________________________________________________________\n"
     ]
    }
   ],
   "source": [
    "model.summary()"
   ],
   "metadata": {
    "collapsed": false,
    "pycharm": {
     "name": "#%%\n"
    }
   }
  },
  {
   "cell_type": "markdown",
   "source": [
    "## Testing"
   ],
   "metadata": {
    "collapsed": false,
    "pycharm": {
     "name": "#%% md\n"
    }
   }
  },
  {
   "cell_type": "code",
   "execution_count": 48,
   "outputs": [],
   "source": [
    "X_test = []\n",
    "Y_test = []\n",
    "\n",
    "for filename in os.listdir(\"./test_data/\"):\n",
    "    img = cv2.imread(\"./test_data/\" + filename)\n",
    "    name = re.findall('([a-zA-Z_ ]*)\\d*.*', filename)[0]\n",
    "    X_test.append(img)\n",
    "    Y_test.append(name)\n",
    "\n",
    "X_test = np.array(X_test)\n",
    "Y_test = np.array(Y_test)"
   ],
   "metadata": {
    "collapsed": false,
    "pycharm": {
     "name": "#%%\n"
    }
   }
  },
  {
   "cell_type": "code",
   "execution_count": 49,
   "outputs": [],
   "source": [
    "X_test = X_test / 255."
   ],
   "metadata": {
    "collapsed": false,
    "pycharm": {
     "name": "#%%\n"
    }
   }
  },
  {
   "cell_type": "code",
   "execution_count": 50,
   "outputs": [],
   "source": [
    "y_test = np.zeros(Y_test.shape)\n",
    "\n",
    "y_test[Y_test == \"attack\"] = 1\n",
    "y_test[Y_test == \"block\"] = 2\n",
    "y_test[Y_test == \"counterattack\"] = 3\n",
    "y_test[Y_test == \"cover\"] = 4\n",
    "y_test[Y_test == \"delay\"] = 5\n",
    "y_test[Y_test == \"destroy\"] = 6\n",
    "y_test[Y_test == \"disrupt\"] = 7\n",
    "y_test[Y_test == \"guard\"] = 8\n",
    "y_test[Y_test == \"occupy\"] = 9\n",
    "y_test[Y_test == \"retain\"] = 10\n",
    "y_test[Y_test == \"screen\"] = 11\n",
    "y_test[Y_test == \"secure\"] = 12\n",
    "y_test[Y_test == \"seize\"] = 13\n",
    "y_test[Y_test == \"support_by_fire\"] = 14"
   ],
   "metadata": {
    "collapsed": false,
    "pycharm": {
     "name": "#%%\n"
    }
   }
  },
  {
   "cell_type": "code",
   "execution_count": 51,
   "outputs": [
    {
     "name": "stdout",
     "output_type": "stream",
     "text": [
      "19/19 [==============================] - 4s 169ms/step - loss: 3.5876 - accuracy: 0.5009\n"
     ]
    },
    {
     "data": {
      "text/plain": "[3.5875508785247803, 0.5008547306060791]"
     },
     "execution_count": 51,
     "metadata": {},
     "output_type": "execute_result"
    }
   ],
   "source": [
    "model.evaluate(X_test, y_test)"
   ],
   "metadata": {
    "collapsed": false,
    "pycharm": {
     "name": "#%%\n"
    }
   }
  },
  {
   "cell_type": "code",
   "execution_count": 52,
   "outputs": [
    {
     "name": "stdout",
     "output_type": "stream",
     "text": [
      "Correct: 293\n",
      "Total: 585\n",
      "Acc: 0.5008547008547009\n"
     ]
    }
   ],
   "source": [
    "preds = model.predict(X_test)\n",
    "\n",
    "correct = np.sum(np.abs(np.argmax(preds, axis=1)-y_test) == 0)\n",
    "print(\"Correct: \" + str(correct))\n",
    "print(\"Total: \" + str(X_test.shape[0]))\n",
    "print(\"Acc: \" + str(correct/X_test.shape[0]))"
   ],
   "metadata": {
    "collapsed": false,
    "pycharm": {
     "name": "#%%\n"
    }
   }
  },
  {
   "cell_type": "code",
   "execution_count": 53,
   "outputs": [],
   "source": [
    "cm = confusion_matrix(y_test, np.argmax(preds, axis=1))"
   ],
   "metadata": {
    "collapsed": false,
    "pycharm": {
     "name": "#%%\n"
    }
   }
  },
  {
   "cell_type": "code",
   "execution_count": 54,
   "outputs": [
    {
     "data": {
      "text/plain": "<sklearn.metrics._plot.confusion_matrix.ConfusionMatrixDisplay at 0x24cedd10d30>"
     },
     "execution_count": 54,
     "metadata": {},
     "output_type": "execute_result"
    },
    {
     "data": {
      "text/plain": "<Figure size 432x288 with 2 Axes>",
      "image/png": "[encoded data removed]"
     },
     "metadata": {
      "needs_background": "light"
     },
     "output_type": "display_data"
    }
   ],
   "source": [
    "disp = ConfusionMatrixDisplay(confusion_matrix=cm, display_labels = [\"advance_to_contact\",\n",
    "                                                            \"attack\",\n",
    "                                                            \"block\",\n",
    "                                                            \"counterattack\",\n",
    "                                                            \"cover\",\n",
    "                                                            \"delay\",\n",
    "                                                            \"destroy\",\n",
    "                                                            \"disrupt\",\n",
    "                                                            \"guard\",\n",
    "                                                            \"occupy\",\n",
    "                                                            \"retain\",\n",
    "                                                            \"screen\",\n",
    "                                                            \"secure\",\n",
    "                                                            \"seize\",\n",
    "                                                            \"support_by_fire\"])\n",
    "\n",
    "disp.plot(xticks_rotation= \"vertical\")"
   ],
   "metadata": {
    "collapsed": false,
    "pycharm": {
     "name": "#%%\n"
    }
   }
  }
 ],
 "metadata": {
  "kernelspec": {
   "display_name": "Python 3",
   "language": "python",
   "name": "python3"
  },
  "language_info": {
   "codemirror_mode": {
    "name": "ipython",
    "version": 2
   },
   "file_extension": ".py",
   "mimetype": "text/x-python",
   "name": "python",
   "nbconvert_exporter": "python",
   "pygments_lexer": "ipython2",
   "version": "2.7.6"
  }
 },
 "nbformat": 4,
 "nbformat_minor": 0
}