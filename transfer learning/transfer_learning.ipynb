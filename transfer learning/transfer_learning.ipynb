{
 "cells": [
  {
   "cell_type": "code",
   "execution_count": 253,
   "metadata": {
    "collapsed": true
   },
   "outputs": [],
   "source": [
    "import numpy as np\n",
    "import tensorflow as tf\n",
    "from tensorflow import keras\n",
    "import os\n",
    "import cv2\n",
    "import re\n",
    "from sklearn.metrics import confusion_matrix, ConfusionMatrixDisplay"
   ]
  },
  {
   "cell_type": "markdown",
   "source": [],
   "metadata": {
    "collapsed": false,
    "pycharm": {
     "name": "#%% md\n"
    }
   }
  },
  {
   "cell_type": "markdown",
   "source": [
    "### #1"
   ],
   "metadata": {
    "collapsed": false,
    "pycharm": {
     "name": "#%% md\n"
    }
   }
  },
  {
   "cell_type": "code",
   "execution_count": 254,
   "outputs": [],
   "source": [
    "# X_train = np.load(\"../data/generator/generated_data.npy\")\n",
    "# Y_train = np.load(\"../data/generator/generated_data_labels.npy\")\n",
    "#\n",
    "# X_train.shape, Y_train.shape"
   ],
   "metadata": {
    "collapsed": false,
    "pycharm": {
     "name": "#%%\n"
    }
   }
  },
  {
   "cell_type": "code",
   "execution_count": 255,
   "outputs": [],
   "source": [
    "# X_train_ = np.repeat(X_train[..., np.newaxis], 3, -1)\n",
    "# X_train_.shape"
   ],
   "metadata": {
    "collapsed": false,
    "pycharm": {
     "name": "#%%\n"
    }
   }
  },
  {
   "cell_type": "code",
   "execution_count": 256,
   "outputs": [],
   "source": [
    "# y_train = np.zeros(Y_train.shape)\n",
    "#\n",
    "# y_train[Y_train == \"attack\"] = 1\n",
    "# y_train[Y_train == \"block\"] = 2\n",
    "# y_train[Y_train == \"counterattack\"] = 3\n",
    "# y_train[Y_train == \"cover\"] = 4\n",
    "# y_train[Y_train == \"delay\"] = 5\n",
    "# y_train[Y_train == \"destroy\"] = 6\n",
    "# y_train[Y_train == \"disrupt\"] = 7\n",
    "# y_train[Y_train == \"guard\"] = 8\n",
    "# y_train[Y_train == \"occupy\"] = 9\n",
    "# y_train[Y_train == \"retain\"] = 10\n",
    "# y_train[Y_train == \"screen\"] = 11\n",
    "# y_train[Y_train == \"secure\"] = 12\n",
    "# y_train[Y_train == \"seize\"] = 13\n",
    "# y_train[Y_train == \"support_by_fire\"] = 14"
   ],
   "metadata": {
    "collapsed": false,
    "pycharm": {
     "name": "#%%\n"
    }
   }
  },
  {
   "cell_type": "markdown",
   "source": [
    "### #2"
   ],
   "metadata": {
    "collapsed": false,
    "pycharm": {
     "name": "#%% md\n"
    }
   }
  },
  {
   "cell_type": "code",
   "execution_count": 257,
   "outputs": [
    {
     "data": {
      "text/plain": "((450, 100, 100, 3), (450,))"
     },
     "execution_count": 257,
     "metadata": {},
     "output_type": "execute_result"
    }
   ],
   "source": [
    "Y_train = []\n",
    "X_train = []\n",
    "\n",
    "for filename in os.listdir(\"./train_data/\"):\n",
    "    img = cv2.imread(\"./train_data/\" + filename)\n",
    "    name = re.findall('([a-zA-Z_ ]*)\\d*.*', filename)[0]\n",
    "    X_train.append(img)\n",
    "    Y_train.append(name)\n",
    "\n",
    "X_train = np.array(X_train)\n",
    "Y_train = np.array(Y_train)\n",
    "X_train.shape, Y_train.shape"
   ],
   "metadata": {
    "collapsed": false,
    "pycharm": {
     "name": "#%%\n"
    }
   }
  },
  {
   "cell_type": "code",
   "execution_count": 258,
   "outputs": [],
   "source": [
    "y_train = np.zeros(Y_train.shape)\n",
    "\n",
    "y_train[Y_train == \"attack\"] = 1\n",
    "y_train[Y_train == \"block\"] = 2\n",
    "y_train[Y_train == \"counterattack\"] = 3\n",
    "y_train[Y_train == \"cover\"] = 4\n",
    "y_train[Y_train == \"delay\"] = 5\n",
    "y_train[Y_train == \"destroy\"] = 6\n",
    "y_train[Y_train == \"disrupt\"] = 7\n",
    "y_train[Y_train == \"guard\"] = 8\n",
    "y_train[Y_train == \"occupy\"] = 9\n",
    "y_train[Y_train == \"retain\"] = 10\n",
    "y_train[Y_train == \"screen\"] = 11\n",
    "y_train[Y_train == \"secure\"] = 12\n",
    "y_train[Y_train == \"seize\"] = 13\n",
    "y_train[Y_train == \"support_by_fire\"] = 14"
   ],
   "metadata": {
    "collapsed": false,
    "pycharm": {
     "name": "#%%\n"
    }
   }
  },
  {
   "cell_type": "code",
   "execution_count": 259,
   "outputs": [],
   "source": [
    "np.random.RandomState(seed=22).shuffle(X_train)\n",
    "np.random.RandomState(seed=22).shuffle(y_train)"
   ],
   "metadata": {
    "collapsed": false,
    "pycharm": {
     "name": "#%%\n"
    }
   }
  },
  {
   "cell_type": "markdown",
   "source": [
    "## Model"
   ],
   "metadata": {
    "collapsed": false,
    "pycharm": {
     "name": "#%% md\n"
    }
   }
  },
  {
   "cell_type": "code",
   "execution_count": 260,
   "outputs": [],
   "source": [
    "base_model = keras.applications.Xception(\n",
    "    weights='imagenet',\n",
    "    input_shape=(100, 100, 3),\n",
    "    include_top=False)\n",
    "\n",
    "base_model.trainable = False"
   ],
   "metadata": {
    "collapsed": false,
    "pycharm": {
     "name": "#%%\n"
    }
   }
  },
  {
   "cell_type": "code",
   "execution_count": 261,
   "outputs": [],
   "source": [
    "inputs = keras.Input(shape=(100, 100, 3))\n",
    "\n",
    "x = base_model(inputs, training=False)\n",
    "x = keras.layers.Dense(2048, activation = \"relu\")(x)\n",
    "x = keras.layers.Dense(2048, activation = \"relu\")(x)\n",
    "x = keras.layers.Flatten()(x)\n",
    "outputs = keras.layers.Dense(15, activation = \"softmax\")(x)\n",
    "model = keras.Model(inputs, outputs)"
   ],
   "metadata": {
    "collapsed": false,
    "pycharm": {
     "name": "#%%\n"
    }
   }
  },
  {
   "cell_type": "code",
   "execution_count": 262,
   "outputs": [
    {
     "name": "stdout",
     "output_type": "stream",
     "text": [
      "Epoch 1/100\n",
      "29/29 [==============================] - 5s 124ms/step - loss: 43.7338 - accuracy: 0.1578\n",
      "Epoch 2/100\n",
      "29/29 [==============================] - 4s 126ms/step - loss: 1.8254 - accuracy: 0.4400\n",
      "Epoch 3/100\n",
      "29/29 [==============================] - 4s 123ms/step - loss: 1.4232 - accuracy: 0.5156\n",
      "Epoch 4/100\n",
      "29/29 [==============================] - 4s 123ms/step - loss: 1.1425 - accuracy: 0.6089\n",
      "Epoch 5/100\n",
      "29/29 [==============================] - 4s 123ms/step - loss: 0.9727 - accuracy: 0.6667\n",
      "Epoch 6/100\n",
      "29/29 [==============================] - 4s 124ms/step - loss: 1.1358 - accuracy: 0.6333\n",
      "Epoch 7/100\n",
      "29/29 [==============================] - 4s 124ms/step - loss: 0.8384 - accuracy: 0.7200\n",
      "Epoch 8/100\n",
      "29/29 [==============================] - 4s 123ms/step - loss: 0.7496 - accuracy: 0.7444\n",
      "Epoch 9/100\n",
      "29/29 [==============================] - 4s 124ms/step - loss: 0.6112 - accuracy: 0.7844\n",
      "Epoch 10/100\n",
      "29/29 [==============================] - 4s 124ms/step - loss: 0.6753 - accuracy: 0.7889\n",
      "Epoch 11/100\n",
      "29/29 [==============================] - 4s 124ms/step - loss: 0.9326 - accuracy: 0.6933\n",
      "Epoch 12/100\n",
      "29/29 [==============================] - 4s 124ms/step - loss: 1.0161 - accuracy: 0.6822\n",
      "Epoch 13/100\n",
      "29/29 [==============================] - 4s 123ms/step - loss: 0.6943 - accuracy: 0.7533\n",
      "Epoch 14/100\n",
      "29/29 [==============================] - 4s 124ms/step - loss: 1.0147 - accuracy: 0.7178\n",
      "Epoch 15/100\n",
      "29/29 [==============================] - 4s 123ms/step - loss: 0.8456 - accuracy: 0.7600\n",
      "Epoch 16/100\n",
      "29/29 [==============================] - 4s 124ms/step - loss: 0.6627 - accuracy: 0.7933\n",
      "Epoch 17/100\n",
      "29/29 [==============================] - 4s 124ms/step - loss: 0.3592 - accuracy: 0.8667\n",
      "Epoch 18/100\n",
      "29/29 [==============================] - 4s 124ms/step - loss: 0.3022 - accuracy: 0.8956\n",
      "Epoch 19/100\n",
      "29/29 [==============================] - 4s 123ms/step - loss: 0.4717 - accuracy: 0.8244\n",
      "Epoch 20/100\n",
      "29/29 [==============================] - 4s 124ms/step - loss: 0.4130 - accuracy: 0.8444\n",
      "Epoch 21/100\n",
      "29/29 [==============================] - 4s 124ms/step - loss: 0.5332 - accuracy: 0.8400\n",
      "Epoch 22/100\n",
      "29/29 [==============================] - 4s 124ms/step - loss: 0.4573 - accuracy: 0.8289\n",
      "Epoch 23/100\n",
      "29/29 [==============================] - 4s 124ms/step - loss: 0.3008 - accuracy: 0.9000\n",
      "Epoch 24/100\n",
      "29/29 [==============================] - 4s 123ms/step - loss: 0.1577 - accuracy: 0.9400\n",
      "Epoch 25/100\n",
      "29/29 [==============================] - 4s 124ms/step - loss: 0.3664 - accuracy: 0.9000\n",
      "Epoch 26/100\n",
      "29/29 [==============================] - 4s 123ms/step - loss: 0.2780 - accuracy: 0.9067\n",
      "Epoch 27/100\n",
      "29/29 [==============================] - 4s 123ms/step - loss: 0.3002 - accuracy: 0.9222\n",
      "Epoch 28/100\n",
      "29/29 [==============================] - 4s 124ms/step - loss: 0.3037 - accuracy: 0.8844\n",
      "Epoch 29/100\n",
      "29/29 [==============================] - 4s 124ms/step - loss: 0.1964 - accuracy: 0.9333\n",
      "Epoch 30/100\n",
      "29/29 [==============================] - 4s 124ms/step - loss: 0.2586 - accuracy: 0.9200\n",
      "Epoch 31/100\n",
      "29/29 [==============================] - 4s 123ms/step - loss: 0.3967 - accuracy: 0.9044\n",
      "Epoch 32/100\n",
      "29/29 [==============================] - 4s 124ms/step - loss: 0.3624 - accuracy: 0.8689\n",
      "Epoch 33/100\n",
      "29/29 [==============================] - 4s 124ms/step - loss: 0.1853 - accuracy: 0.9267\n",
      "Epoch 34/100\n",
      "29/29 [==============================] - 4s 124ms/step - loss: 0.2046 - accuracy: 0.9311\n",
      "Epoch 35/100\n",
      "29/29 [==============================] - 4s 124ms/step - loss: 0.1785 - accuracy: 0.9467\n",
      "Epoch 36/100\n",
      "29/29 [==============================] - 4s 123ms/step - loss: 0.3471 - accuracy: 0.9022\n",
      "Epoch 37/100\n",
      "29/29 [==============================] - 4s 124ms/step - loss: 0.1973 - accuracy: 0.9222\n",
      "Epoch 38/100\n",
      "29/29 [==============================] - 4s 124ms/step - loss: 0.3114 - accuracy: 0.9044\n",
      "Epoch 39/100\n",
      "29/29 [==============================] - 4s 124ms/step - loss: 0.2072 - accuracy: 0.9156\n",
      "Epoch 40/100\n",
      "29/29 [==============================] - 4s 124ms/step - loss: 0.3743 - accuracy: 0.8889\n",
      "Epoch 41/100\n",
      "29/29 [==============================] - 4s 124ms/step - loss: 0.2340 - accuracy: 0.9222\n",
      "Epoch 42/100\n",
      "29/29 [==============================] - 4s 125ms/step - loss: 0.3897 - accuracy: 0.8844\n",
      "Epoch 43/100\n",
      "29/29 [==============================] - 4s 123ms/step - loss: 0.1608 - accuracy: 0.9556\n",
      "Epoch 44/100\n",
      "29/29 [==============================] - 4s 124ms/step - loss: 0.0641 - accuracy: 0.9733\n",
      "Epoch 45/100\n",
      "29/29 [==============================] - 4s 128ms/step - loss: 0.0907 - accuracy: 0.9711\n",
      "Epoch 46/100\n",
      "29/29 [==============================] - 4s 134ms/step - loss: 0.0203 - accuracy: 0.9956\n",
      "Epoch 47/100\n",
      "29/29 [==============================] - 4s 134ms/step - loss: 0.0140 - accuracy: 0.9956\n",
      "Epoch 48/100\n",
      "29/29 [==============================] - 4s 132ms/step - loss: 0.0282 - accuracy: 0.9911\n",
      "Epoch 49/100\n",
      "29/29 [==============================] - 4s 125ms/step - loss: 0.1412 - accuracy: 0.9556\n",
      "Epoch 50/100\n",
      "29/29 [==============================] - 4s 130ms/step - loss: 0.0888 - accuracy: 0.9733\n",
      "Epoch 51/100\n",
      "29/29 [==============================] - 4s 127ms/step - loss: 0.0825 - accuracy: 0.9800\n",
      "Epoch 52/100\n",
      "29/29 [==============================] - 4s 126ms/step - loss: 0.0423 - accuracy: 0.9867\n",
      "Epoch 53/100\n",
      "29/29 [==============================] - 4s 125ms/step - loss: 0.0262 - accuracy: 0.9889\n",
      "Epoch 54/100\n",
      "29/29 [==============================] - 4s 126ms/step - loss: 0.0092 - accuracy: 0.9978\n",
      "Epoch 55/100\n",
      "29/29 [==============================] - 4s 125ms/step - loss: 0.0019 - accuracy: 1.0000\n",
      "Epoch 56/100\n",
      "29/29 [==============================] - 4s 125ms/step - loss: 0.0010 - accuracy: 1.0000\n",
      "Epoch 57/100\n",
      "29/29 [==============================] - 4s 125ms/step - loss: 7.8071e-04 - accuracy: 1.0000\n",
      "Epoch 58/100\n",
      "29/29 [==============================] - 4s 126ms/step - loss: 6.7056e-04 - accuracy: 1.0000\n",
      "Epoch 59/100\n",
      "29/29 [==============================] - 4s 125ms/step - loss: 6.0557e-04 - accuracy: 1.0000\n",
      "Epoch 60/100\n",
      "29/29 [==============================] - 4s 126ms/step - loss: 5.4790e-04 - accuracy: 1.0000\n",
      "Epoch 61/100\n",
      "29/29 [==============================] - 4s 125ms/step - loss: 5.0713e-04 - accuracy: 1.0000\n",
      "Epoch 62/100\n",
      "29/29 [==============================] - 4s 126ms/step - loss: 4.7454e-04 - accuracy: 1.0000\n",
      "Epoch 63/100\n",
      "29/29 [==============================] - 4s 125ms/step - loss: 4.3758e-04 - accuracy: 1.0000\n",
      "Epoch 64/100\n",
      "29/29 [==============================] - 4s 131ms/step - loss: 4.1706e-04 - accuracy: 1.0000\n",
      "Epoch 65/100\n",
      "29/29 [==============================] - 4s 127ms/step - loss: 4.0235e-04 - accuracy: 1.0000\n",
      "Epoch 66/100\n",
      "29/29 [==============================] - 4s 125ms/step - loss: 3.6620e-04 - accuracy: 1.0000\n",
      "Epoch 67/100\n",
      "29/29 [==============================] - 4s 125ms/step - loss: 3.5538e-04 - accuracy: 1.0000\n",
      "Epoch 68/100\n",
      "29/29 [==============================] - 4s 125ms/step - loss: 3.3726e-04 - accuracy: 1.0000\n",
      "Epoch 69/100\n",
      "29/29 [==============================] - 4s 125ms/step - loss: 3.1638e-04 - accuracy: 1.0000\n",
      "Epoch 70/100\n",
      "29/29 [==============================] - 4s 125ms/step - loss: 3.0574e-04 - accuracy: 1.0000\n",
      "Epoch 71/100\n",
      "29/29 [==============================] - 4s 125ms/step - loss: 2.9142e-04 - accuracy: 1.0000\n",
      "Epoch 72/100\n",
      "29/29 [==============================] - 4s 130ms/step - loss: 2.7721e-04 - accuracy: 1.0000\n",
      "Epoch 73/100\n",
      "29/29 [==============================] - 4s 130ms/step - loss: 2.6908e-04 - accuracy: 1.0000\n",
      "Epoch 74/100\n",
      "29/29 [==============================] - 4s 128ms/step - loss: 2.5959e-04 - accuracy: 1.0000\n",
      "Epoch 75/100\n",
      "29/29 [==============================] - 4s 133ms/step - loss: 2.4815e-04 - accuracy: 1.0000\n",
      "Epoch 76/100\n",
      "29/29 [==============================] - 4s 127ms/step - loss: 2.3895e-04 - accuracy: 1.0000\n",
      "Epoch 77/100\n",
      "29/29 [==============================] - 4s 125ms/step - loss: 2.2980e-04 - accuracy: 1.0000\n",
      "Epoch 78/100\n",
      "29/29 [==============================] - 4s 125ms/step - loss: 2.2475e-04 - accuracy: 1.0000\n",
      "Epoch 79/100\n",
      "29/29 [==============================] - 4s 126ms/step - loss: 2.1302e-04 - accuracy: 1.0000\n",
      "Epoch 80/100\n",
      "29/29 [==============================] - 4s 126ms/step - loss: 2.0645e-04 - accuracy: 1.0000\n",
      "Epoch 81/100\n",
      "29/29 [==============================] - 4s 127ms/step - loss: 2.0028e-04 - accuracy: 1.0000\n",
      "Epoch 82/100\n",
      "29/29 [==============================] - 4s 135ms/step - loss: 1.9519e-04 - accuracy: 1.0000\n",
      "Epoch 83/100\n",
      "29/29 [==============================] - 4s 131ms/step - loss: 1.9137e-04 - accuracy: 1.0000\n",
      "Epoch 84/100\n",
      "29/29 [==============================] - 4s 127ms/step - loss: 1.8236e-04 - accuracy: 1.0000\n",
      "Epoch 85/100\n",
      "29/29 [==============================] - 4s 125ms/step - loss: 1.7918e-04 - accuracy: 1.0000\n",
      "Epoch 86/100\n",
      "29/29 [==============================] - 4s 125ms/step - loss: 1.7227e-04 - accuracy: 1.0000\n",
      "Epoch 87/100\n",
      "29/29 [==============================] - 4s 126ms/step - loss: 1.6724e-04 - accuracy: 1.0000\n",
      "Epoch 88/100\n",
      "29/29 [==============================] - 4s 125ms/step - loss: 1.6262e-04 - accuracy: 1.0000\n",
      "Epoch 89/100\n",
      "29/29 [==============================] - 4s 127ms/step - loss: 1.5802e-04 - accuracy: 1.0000\n",
      "Epoch 90/100\n",
      "29/29 [==============================] - 4s 125ms/step - loss: 1.5475e-04 - accuracy: 1.0000\n",
      "Epoch 91/100\n",
      "29/29 [==============================] - 4s 126ms/step - loss: 1.4983e-04 - accuracy: 1.0000\n",
      "Epoch 92/100\n",
      "29/29 [==============================] - 4s 125ms/step - loss: 1.4631e-04 - accuracy: 1.0000\n",
      "Epoch 93/100\n",
      "29/29 [==============================] - 4s 125ms/step - loss: 1.4327e-04 - accuracy: 1.0000\n",
      "Epoch 94/100\n",
      "29/29 [==============================] - 4s 127ms/step - loss: 1.3937e-04 - accuracy: 1.0000\n",
      "Epoch 95/100\n",
      "29/29 [==============================] - 4s 129ms/step - loss: 1.3469e-04 - accuracy: 1.0000\n",
      "Epoch 96/100\n",
      "29/29 [==============================] - 4s 127ms/step - loss: 1.3322e-04 - accuracy: 1.0000\n",
      "Epoch 97/100\n",
      "29/29 [==============================] - 4s 127ms/step - loss: 1.2925e-04 - accuracy: 1.0000\n",
      "Epoch 98/100\n",
      "29/29 [==============================] - 4s 124ms/step - loss: 1.2580e-04 - accuracy: 1.0000\n",
      "Epoch 99/100\n",
      "29/29 [==============================] - 4s 131ms/step - loss: 1.2377e-04 - accuracy: 1.0000\n",
      "Epoch 100/100\n",
      "29/29 [==============================] - 4s 131ms/step - loss: 1.2171e-04 - accuracy: 1.0000\n"
     ]
    },
    {
     "data": {
      "text/plain": "<keras.callbacks.History at 0x20db12c0b50>"
     },
     "execution_count": 262,
     "metadata": {},
     "output_type": "execute_result"
    }
   ],
   "source": [
    "model.compile(optimizer=keras.optimizers.Adam(),\n",
    "              loss=keras.losses.SparseCategoricalCrossentropy(),\n",
    "              metrics=[\"accuracy\"])\n",
    "model.fit(X_train, y_train, batch_size=16, epochs=100)"
   ],
   "metadata": {
    "collapsed": false,
    "pycharm": {
     "name": "#%%\n"
    }
   }
  },
  {
   "cell_type": "code",
   "execution_count": 263,
   "outputs": [
    {
     "name": "stdout",
     "output_type": "stream",
     "text": [
      "Model: \"model_18\"\n",
      "_________________________________________________________________\n",
      " Layer (type)                Output Shape              Param #   \n",
      "=================================================================\n",
      " input_45 (InputLayer)       [(None, 100, 100, 3)]     0         \n",
      "                                                                 \n",
      " xception (Functional)       (None, 3, 3, 2048)        20861480  \n",
      "                                                                 \n",
      " dense_38 (Dense)            (None, 3, 3, 2048)        4196352   \n",
      "                                                                 \n",
      " dense_39 (Dense)            (None, 3, 3, 2048)        4196352   \n",
      "                                                                 \n",
      " flatten_12 (Flatten)        (None, 18432)             0         \n",
      "                                                                 \n",
      " dense_40 (Dense)            (None, 15)                276495    \n",
      "                                                                 \n",
      "=================================================================\n",
      "Total params: 29,530,679\n",
      "Trainable params: 8,669,199\n",
      "Non-trainable params: 20,861,480\n",
      "_________________________________________________________________\n"
     ]
    }
   ],
   "source": [
    "model.summary()"
   ],
   "metadata": {
    "collapsed": false,
    "pycharm": {
     "name": "#%%\n"
    }
   }
  },
  {
   "cell_type": "markdown",
   "source": [
    "## Testing"
   ],
   "metadata": {
    "collapsed": false,
    "pycharm": {
     "name": "#%% md\n"
    }
   }
  },
  {
   "cell_type": "code",
   "execution_count": 264,
   "outputs": [],
   "source": [
    "X_test = []\n",
    "Y_test = []\n",
    "\n",
    "for filename in os.listdir(\"./test_data/\"):\n",
    "    img = cv2.imread(\"./test_data/\" + filename)\n",
    "    name = re.findall('([a-zA-Z_ ]*)\\d*.*', filename)[0]\n",
    "    X_test.append(img)\n",
    "    Y_test.append(name)\n",
    "\n",
    "X_test = np.array(X_test)\n",
    "Y_test = np.array(Y_test)"
   ],
   "metadata": {
    "collapsed": false,
    "pycharm": {
     "name": "#%%\n"
    }
   }
  },
  {
   "cell_type": "code",
   "execution_count": 265,
   "outputs": [],
   "source": [
    "y_test = np.zeros(Y_test.shape)\n",
    "\n",
    "y_test[Y_test == \"attack\"] = 1\n",
    "y_test[Y_test == \"block\"] = 2\n",
    "y_test[Y_test == \"counterattack\"] = 3\n",
    "y_test[Y_test == \"cover\"] = 4\n",
    "y_test[Y_test == \"delay\"] = 5\n",
    "y_test[Y_test == \"destroy\"] = 6\n",
    "y_test[Y_test == \"disrupt\"] = 7\n",
    "y_test[Y_test == \"guard\"] = 8\n",
    "y_test[Y_test == \"occupy\"] = 9\n",
    "y_test[Y_test == \"retain\"] = 10\n",
    "y_test[Y_test == \"screen\"] = 11\n",
    "y_test[Y_test == \"secure\"] = 12\n",
    "y_test[Y_test == \"seize\"] = 13\n",
    "y_test[Y_test == \"support_by_fire\"] = 14"
   ],
   "metadata": {
    "collapsed": false,
    "pycharm": {
     "name": "#%%\n"
    }
   }
  },
  {
   "cell_type": "code",
   "execution_count": 266,
   "outputs": [
    {
     "name": "stdout",
     "output_type": "stream",
     "text": [
      "19/19 [==============================] - 4s 189ms/step - loss: 6.9490 - accuracy: 0.3043\n"
     ]
    },
    {
     "data": {
      "text/plain": "[6.948975563049316, 0.3042735159397125]"
     },
     "execution_count": 266,
     "metadata": {},
     "output_type": "execute_result"
    }
   ],
   "source": [
    "model.evaluate(X_test, y_test)"
   ],
   "metadata": {
    "collapsed": false,
    "pycharm": {
     "name": "#%%\n"
    }
   }
  },
  {
   "cell_type": "code",
   "execution_count": 267,
   "outputs": [
    {
     "name": "stdout",
     "output_type": "stream",
     "text": [
      "Correct: 178\n",
      "Total: 585\n",
      "Acc: 0.30427350427350425\n"
     ]
    }
   ],
   "source": [
    "preds = model.predict(X_test)\n",
    "\n",
    "correct = np.sum(np.abs(np.argmax(preds, axis=1)-y_test) == 0)\n",
    "print(\"Correct: \" + str(correct))\n",
    "print(\"Total: \" + str(X_test.shape[0]))\n",
    "print(\"Acc: \" + str(correct/X_test.shape[0]))"
   ],
   "metadata": {
    "collapsed": false,
    "pycharm": {
     "name": "#%%\n"
    }
   }
  },
  {
   "cell_type": "code",
   "execution_count": 268,
   "outputs": [],
   "source": [
    "cm = confusion_matrix(y_test, np.argmax(preds, axis=1))"
   ],
   "metadata": {
    "collapsed": false,
    "pycharm": {
     "name": "#%%\n"
    }
   }
  },
  {
   "cell_type": "code",
   "execution_count": 269,
   "outputs": [
    {
     "data": {
      "text/plain": "<sklearn.metrics._plot.confusion_matrix.ConfusionMatrixDisplay at 0x20dc51830a0>"
     },
     "execution_count": 269,
     "metadata": {},
     "output_type": "execute_result"
    },
    {
     "data": {
      "text/plain": "<Figure size 432x288 with 2 Axes>",
      "image/png": "[encoded data removed]"
     },
     "metadata": {
      "needs_background": "light"
     },
     "output_type": "display_data"
    }
   ],
   "source": [
    "disp = ConfusionMatrixDisplay(confusion_matrix=cm, display_labels = [\"advance_to_contact\",\n",
    "                                                            \"attack\",\n",
    "                                                            \"block\",\n",
    "                                                            \"counterattack\",\n",
    "                                                            \"cover\",\n",
    "                                                            \"delay\",\n",
    "                                                            \"destroy\",\n",
    "                                                            \"disrupt\",\n",
    "                                                            \"guard\",\n",
    "                                                            \"occupy\",\n",
    "                                                            \"retain\",\n",
    "                                                            \"screen\",\n",
    "                                                            \"secure\",\n",
    "                                                            \"seize\",\n",
    "                                                            \"support_by_fire\"])\n",
    "\n",
    "disp.plot(xticks_rotation= \"vertical\")"
   ],
   "metadata": {
    "collapsed": false,
    "pycharm": {
     "name": "#%%\n"
    }
   }
  }
 ],
 "metadata": {
  "kernelspec": {
   "display_name": "Python 3",
   "language": "python",
   "name": "python3"
  },
  "language_info": {
   "codemirror_mode": {
    "name": "ipython",
    "version": 2
   },
   "file_extension": ".py",
   "mimetype": "text/x-python",
   "name": "python",
   "nbconvert_exporter": "python",
   "pygments_lexer": "ipython2",
   "version": "2.7.6"
  }
 },
 "nbformat": 4,
 "nbformat_minor": 0
}