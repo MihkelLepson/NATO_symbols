{
  "cells": [
    {
      "cell_type": "markdown",
      "metadata": {
        "id": "2KM7qjyBMu6K"
      },
      "source": [
        "### YOLOv5 installation\n",
        "NB! Meant to be run in Google Colab.\n",
        "\n",
        "### As long as you change the *path_to_project* variable to your path up until the project and *project_root* NATO-Symbols part to the project folder name, code should run seamlessly."
      ]
    },
    {
      "cell_type": "code",
      "source": [
        "from google.colab import drive\n",
        "drive.mount('/content/drive')"
      ],
      "metadata": {
        "colab": {
          "base_uri": "https://localhost:8080/"
        },
        "id": "feE93r1EkNmV",
        "outputId": "e8f3ba53-3d65-4107-8405-0c6fddfbb62d"
      },
      "execution_count": 7,
      "outputs": [
        {
          "output_type": "stream",
          "name": "stdout",
          "text": [
            "Drive already mounted at /content/drive; to attempt to forcibly remount, call drive.mount(\"/content/drive\", force_remount=True).\n"
          ]
        }
      ]
    },
    {
      "cell_type": "code",
      "execution_count": 8,
      "metadata": {
        "colab": {
          "base_uri": "https://localhost:8080/"
        },
        "id": "tEVDG3WWM4tK",
        "outputId": "6c1d8e66-dca6-4933-833b-7ab186148742"
      },
      "outputs": [
        {
          "output_type": "stream",
          "name": "stdout",
          "text": [
            "/content/drive/MyDrive/Yolov5/NATO-Symbols\n",
            "YOLO DIRECTORY EXISTS SKIPPING INSTALL\n"
          ]
        }
      ],
      "source": [
        "!cd /content\n",
        "#!rm -rf yolov5\n",
        "import os\n",
        "\n",
        "path_to_project=\"/content/drive/MyDrive/Yolov5\"# /home/erkoiv/Desktop\n",
        "project_root=path_to_project+\"/NATO-Symbols\"\n",
        "yolo_dir=project_root+\"/yolov5\"\n",
        "#NOTE THAT YOLO EXPECTS THE datasets FOLDER TO BE IN THE SAME ROOT FOLDER AS IT IS\n",
        "img_dir=project_root+\"/datasets/NATO-Symbols/images\"\n",
        "label_dir=project_root+\"/datasets/NATO-Symbols/labels\"\n",
        "if yolo_dir==None:\n",
        "  yolo_dir=input(\"Please paste the directory you want to install YOLOv5 into. WITHOUT / IN THE END\")\n",
        "\n",
        "%cd {project_root}\n",
        "\n",
        "![ -d {yolo_dir} ] && echo \"YOLO DIRECTORY EXISTS SKIPPING INSTALL\"\n",
        "![ ! -d {yolo_dir} ] && echo \"INSTALLING YOLOv5 INTO DESIGNATED DIRECTORY\" && git clone https://github.com/ultralytics/yolov5\n"
      ]
    },
    {
      "cell_type": "markdown",
      "metadata": {
        "id": "NMQ1dOXRSwwx"
      },
      "source": [
        "### Requirements installation\n",
        "NB! Meant to be run in Google Colab."
      ]
    },
    {
      "cell_type": "code",
      "execution_count": 9,
      "metadata": {
        "colab": {
          "base_uri": "https://localhost:8080/"
        },
        "id": "fuZfeGzpSwDF",
        "outputId": "21190b7b-1e92-41b4-c025-ad080610eba9"
      },
      "outputs": [
        {
          "output_type": "stream",
          "name": "stdout",
          "text": [
            "Looking in indexes: https://pypi.org/simple, https://us-python.pkg.dev/colab-wheels/public/simple/\n",
            "Requirement already satisfied: wandb in /usr/local/lib/python3.7/dist-packages (0.12.17)\n",
            "Requirement already satisfied: shortuuid>=0.5.0 in /usr/local/lib/python3.7/dist-packages (from wandb) (1.0.9)\n",
            "Requirement already satisfied: requests<3,>=2.0.0 in /usr/local/lib/python3.7/dist-packages (from wandb) (2.23.0)\n",
            "Requirement already satisfied: sentry-sdk>=1.0.0 in /usr/local/lib/python3.7/dist-packages (from wandb) (1.5.12)\n",
            "Requirement already satisfied: PyYAML in /usr/local/lib/python3.7/dist-packages (from wandb) (3.13)\n",
            "Requirement already satisfied: docker-pycreds>=0.4.0 in /usr/local/lib/python3.7/dist-packages (from wandb) (0.4.0)\n",
            "Requirement already satisfied: setuptools in /usr/local/lib/python3.7/dist-packages (from wandb) (57.4.0)\n",
            "Requirement already satisfied: protobuf<4.0dev,>=3.12.0 in /usr/local/lib/python3.7/dist-packages (from wandb) (3.17.3)\n",
            "Requirement already satisfied: pathtools in /usr/local/lib/python3.7/dist-packages (from wandb) (0.1.2)\n",
            "Requirement already satisfied: setproctitle in /usr/local/lib/python3.7/dist-packages (from wandb) (1.2.3)\n",
            "Requirement already satisfied: python-dateutil>=2.6.1 in /usr/local/lib/python3.7/dist-packages (from wandb) (2.8.2)\n",
            "Requirement already satisfied: six>=1.13.0 in /usr/local/lib/python3.7/dist-packages (from wandb) (1.15.0)\n",
            "Requirement already satisfied: psutil>=5.0.0 in /usr/local/lib/python3.7/dist-packages (from wandb) (5.4.8)\n",
            "Requirement already satisfied: Click!=8.0.0,>=7.0 in /usr/local/lib/python3.7/dist-packages (from wandb) (7.1.2)\n",
            "Requirement already satisfied: GitPython>=1.0.0 in /usr/local/lib/python3.7/dist-packages (from wandb) (3.1.27)\n",
            "Requirement already satisfied: promise<3,>=2.0 in /usr/local/lib/python3.7/dist-packages (from wandb) (2.3)\n",
            "Requirement already satisfied: typing-extensions>=3.7.4.3 in /usr/local/lib/python3.7/dist-packages (from GitPython>=1.0.0->wandb) (4.2.0)\n",
            "Requirement already satisfied: gitdb<5,>=4.0.1 in /usr/local/lib/python3.7/dist-packages (from GitPython>=1.0.0->wandb) (4.0.9)\n",
            "Requirement already satisfied: smmap<6,>=3.0.1 in /usr/local/lib/python3.7/dist-packages (from gitdb<5,>=4.0.1->GitPython>=1.0.0->wandb) (5.0.0)\n",
            "Requirement already satisfied: idna<3,>=2.5 in /usr/local/lib/python3.7/dist-packages (from requests<3,>=2.0.0->wandb) (2.10)\n",
            "Requirement already satisfied: certifi>=2017.4.17 in /usr/local/lib/python3.7/dist-packages (from requests<3,>=2.0.0->wandb) (2022.5.18.1)\n",
            "Requirement already satisfied: chardet<4,>=3.0.2 in /usr/local/lib/python3.7/dist-packages (from requests<3,>=2.0.0->wandb) (3.0.4)\n",
            "Requirement already satisfied: urllib3!=1.25.0,!=1.25.1,<1.26,>=1.21.1 in /usr/local/lib/python3.7/dist-packages (from requests<3,>=2.0.0->wandb) (1.24.3)\n",
            "Looking in indexes: https://pypi.org/simple, https://us-python.pkg.dev/colab-wheels/public/simple/\n",
            "Requirement already satisfied: matplotlib>=3.2.2 in /usr/local/lib/python3.7/dist-packages (from -r /content/drive/MyDrive/Yolov5/NATO-Symbols/yolov5/requirements.txt (line 4)) (3.2.2)\n",
            "Requirement already satisfied: numpy>=1.18.5 in /usr/local/lib/python3.7/dist-packages (from -r /content/drive/MyDrive/Yolov5/NATO-Symbols/yolov5/requirements.txt (line 5)) (1.21.6)\n",
            "Requirement already satisfied: opencv-python>=4.1.1 in /usr/local/lib/python3.7/dist-packages (from -r /content/drive/MyDrive/Yolov5/NATO-Symbols/yolov5/requirements.txt (line 6)) (4.1.2.30)\n",
            "Requirement already satisfied: Pillow>=7.1.2 in /usr/local/lib/python3.7/dist-packages (from -r /content/drive/MyDrive/Yolov5/NATO-Symbols/yolov5/requirements.txt (line 7)) (7.1.2)\n",
            "Collecting PyYAML>=5.3.1\n",
            "  Downloading PyYAML-6.0-cp37-cp37m-manylinux_2_5_x86_64.manylinux1_x86_64.manylinux_2_12_x86_64.manylinux2010_x86_64.whl (596 kB)\n",
            "\u001b[K     |████████████████████████████████| 596 kB 5.1 MB/s \n",
            "\u001b[?25hRequirement already satisfied: requests>=2.23.0 in /usr/local/lib/python3.7/dist-packages (from -r /content/drive/MyDrive/Yolov5/NATO-Symbols/yolov5/requirements.txt (line 9)) (2.23.0)\n",
            "Requirement already satisfied: scipy>=1.4.1 in /usr/local/lib/python3.7/dist-packages (from -r /content/drive/MyDrive/Yolov5/NATO-Symbols/yolov5/requirements.txt (line 10)) (1.4.1)\n",
            "Requirement already satisfied: torch>=1.7.0 in /usr/local/lib/python3.7/dist-packages (from -r /content/drive/MyDrive/Yolov5/NATO-Symbols/yolov5/requirements.txt (line 11)) (1.11.0+cu113)\n",
            "Requirement already satisfied: torchvision>=0.8.1 in /usr/local/lib/python3.7/dist-packages (from -r /content/drive/MyDrive/Yolov5/NATO-Symbols/yolov5/requirements.txt (line 12)) (0.12.0+cu113)\n",
            "Requirement already satisfied: tqdm>=4.41.0 in /usr/local/lib/python3.7/dist-packages (from -r /content/drive/MyDrive/Yolov5/NATO-Symbols/yolov5/requirements.txt (line 13)) (4.64.0)\n",
            "Requirement already satisfied: tensorboard>=2.4.1 in /usr/local/lib/python3.7/dist-packages (from -r /content/drive/MyDrive/Yolov5/NATO-Symbols/yolov5/requirements.txt (line 16)) (2.8.0)\n",
            "Requirement already satisfied: pandas>=1.1.4 in /usr/local/lib/python3.7/dist-packages (from -r /content/drive/MyDrive/Yolov5/NATO-Symbols/yolov5/requirements.txt (line 20)) (1.3.5)\n",
            "Requirement already satisfied: seaborn>=0.11.0 in /usr/local/lib/python3.7/dist-packages (from -r /content/drive/MyDrive/Yolov5/NATO-Symbols/yolov5/requirements.txt (line 21)) (0.11.2)\n",
            "Collecting thop\n",
            "  Downloading thop-0.0.31.post2005241907-py3-none-any.whl (8.7 kB)\n",
            "Requirement already satisfied: cycler>=0.10 in /usr/local/lib/python3.7/dist-packages (from matplotlib>=3.2.2->-r /content/drive/MyDrive/Yolov5/NATO-Symbols/yolov5/requirements.txt (line 4)) (0.11.0)\n",
            "Requirement already satisfied: kiwisolver>=1.0.1 in /usr/local/lib/python3.7/dist-packages (from matplotlib>=3.2.2->-r /content/drive/MyDrive/Yolov5/NATO-Symbols/yolov5/requirements.txt (line 4)) (1.4.2)\n",
            "Requirement already satisfied: pyparsing!=2.0.4,!=2.1.2,!=2.1.6,>=2.0.1 in /usr/local/lib/python3.7/dist-packages (from matplotlib>=3.2.2->-r /content/drive/MyDrive/Yolov5/NATO-Symbols/yolov5/requirements.txt (line 4)) (3.0.9)\n",
            "Requirement already satisfied: python-dateutil>=2.1 in /usr/local/lib/python3.7/dist-packages (from matplotlib>=3.2.2->-r /content/drive/MyDrive/Yolov5/NATO-Symbols/yolov5/requirements.txt (line 4)) (2.8.2)\n",
            "Requirement already satisfied: idna<3,>=2.5 in /usr/local/lib/python3.7/dist-packages (from requests>=2.23.0->-r /content/drive/MyDrive/Yolov5/NATO-Symbols/yolov5/requirements.txt (line 9)) (2.10)\n",
            "Requirement already satisfied: urllib3!=1.25.0,!=1.25.1,<1.26,>=1.21.1 in /usr/local/lib/python3.7/dist-packages (from requests>=2.23.0->-r /content/drive/MyDrive/Yolov5/NATO-Symbols/yolov5/requirements.txt (line 9)) (1.24.3)\n",
            "Requirement already satisfied: chardet<4,>=3.0.2 in /usr/local/lib/python3.7/dist-packages (from requests>=2.23.0->-r /content/drive/MyDrive/Yolov5/NATO-Symbols/yolov5/requirements.txt (line 9)) (3.0.4)\n",
            "Requirement already satisfied: certifi>=2017.4.17 in /usr/local/lib/python3.7/dist-packages (from requests>=2.23.0->-r /content/drive/MyDrive/Yolov5/NATO-Symbols/yolov5/requirements.txt (line 9)) (2022.5.18.1)\n",
            "Requirement already satisfied: typing-extensions in /usr/local/lib/python3.7/dist-packages (from torch>=1.7.0->-r /content/drive/MyDrive/Yolov5/NATO-Symbols/yolov5/requirements.txt (line 11)) (4.2.0)\n",
            "Requirement already satisfied: protobuf>=3.6.0 in /usr/local/lib/python3.7/dist-packages (from tensorboard>=2.4.1->-r /content/drive/MyDrive/Yolov5/NATO-Symbols/yolov5/requirements.txt (line 16)) (3.17.3)\n",
            "Requirement already satisfied: markdown>=2.6.8 in /usr/local/lib/python3.7/dist-packages (from tensorboard>=2.4.1->-r /content/drive/MyDrive/Yolov5/NATO-Symbols/yolov5/requirements.txt (line 16)) (3.3.7)\n",
            "Requirement already satisfied: tensorboard-data-server<0.7.0,>=0.6.0 in /usr/local/lib/python3.7/dist-packages (from tensorboard>=2.4.1->-r /content/drive/MyDrive/Yolov5/NATO-Symbols/yolov5/requirements.txt (line 16)) (0.6.1)\n",
            "Requirement already satisfied: setuptools>=41.0.0 in /usr/local/lib/python3.7/dist-packages (from tensorboard>=2.4.1->-r /content/drive/MyDrive/Yolov5/NATO-Symbols/yolov5/requirements.txt (line 16)) (57.4.0)\n",
            "Requirement already satisfied: google-auth<3,>=1.6.3 in /usr/local/lib/python3.7/dist-packages (from tensorboard>=2.4.1->-r /content/drive/MyDrive/Yolov5/NATO-Symbols/yolov5/requirements.txt (line 16)) (1.35.0)\n",
            "Requirement already satisfied: werkzeug>=0.11.15 in /usr/local/lib/python3.7/dist-packages (from tensorboard>=2.4.1->-r /content/drive/MyDrive/Yolov5/NATO-Symbols/yolov5/requirements.txt (line 16)) (1.0.1)\n",
            "Requirement already satisfied: google-auth-oauthlib<0.5,>=0.4.1 in /usr/local/lib/python3.7/dist-packages (from tensorboard>=2.4.1->-r /content/drive/MyDrive/Yolov5/NATO-Symbols/yolov5/requirements.txt (line 16)) (0.4.6)\n",
            "Requirement already satisfied: grpcio>=1.24.3 in /usr/local/lib/python3.7/dist-packages (from tensorboard>=2.4.1->-r /content/drive/MyDrive/Yolov5/NATO-Symbols/yolov5/requirements.txt (line 16)) (1.46.3)\n",
            "Requirement already satisfied: tensorboard-plugin-wit>=1.6.0 in /usr/local/lib/python3.7/dist-packages (from tensorboard>=2.4.1->-r /content/drive/MyDrive/Yolov5/NATO-Symbols/yolov5/requirements.txt (line 16)) (1.8.1)\n",
            "Requirement already satisfied: wheel>=0.26 in /usr/local/lib/python3.7/dist-packages (from tensorboard>=2.4.1->-r /content/drive/MyDrive/Yolov5/NATO-Symbols/yolov5/requirements.txt (line 16)) (0.37.1)\n",
            "Requirement already satisfied: absl-py>=0.4 in /usr/local/lib/python3.7/dist-packages (from tensorboard>=2.4.1->-r /content/drive/MyDrive/Yolov5/NATO-Symbols/yolov5/requirements.txt (line 16)) (1.0.0)\n",
            "Requirement already satisfied: pytz>=2017.3 in /usr/local/lib/python3.7/dist-packages (from pandas>=1.1.4->-r /content/drive/MyDrive/Yolov5/NATO-Symbols/yolov5/requirements.txt (line 20)) (2022.1)\n",
            "Requirement already satisfied: six in /usr/local/lib/python3.7/dist-packages (from absl-py>=0.4->tensorboard>=2.4.1->-r /content/drive/MyDrive/Yolov5/NATO-Symbols/yolov5/requirements.txt (line 16)) (1.15.0)\n",
            "Requirement already satisfied: pyasn1-modules>=0.2.1 in /usr/local/lib/python3.7/dist-packages (from google-auth<3,>=1.6.3->tensorboard>=2.4.1->-r /content/drive/MyDrive/Yolov5/NATO-Symbols/yolov5/requirements.txt (line 16)) (0.2.8)\n",
            "Requirement already satisfied: cachetools<5.0,>=2.0.0 in /usr/local/lib/python3.7/dist-packages (from google-auth<3,>=1.6.3->tensorboard>=2.4.1->-r /content/drive/MyDrive/Yolov5/NATO-Symbols/yolov5/requirements.txt (line 16)) (4.2.4)\n",
            "Requirement already satisfied: rsa<5,>=3.1.4 in /usr/local/lib/python3.7/dist-packages (from google-auth<3,>=1.6.3->tensorboard>=2.4.1->-r /content/drive/MyDrive/Yolov5/NATO-Symbols/yolov5/requirements.txt (line 16)) (4.8)\n",
            "Requirement already satisfied: requests-oauthlib>=0.7.0 in /usr/local/lib/python3.7/dist-packages (from google-auth-oauthlib<0.5,>=0.4.1->tensorboard>=2.4.1->-r /content/drive/MyDrive/Yolov5/NATO-Symbols/yolov5/requirements.txt (line 16)) (1.3.1)\n",
            "Requirement already satisfied: importlib-metadata>=4.4 in /usr/local/lib/python3.7/dist-packages (from markdown>=2.6.8->tensorboard>=2.4.1->-r /content/drive/MyDrive/Yolov5/NATO-Symbols/yolov5/requirements.txt (line 16)) (4.11.4)\n",
            "Requirement already satisfied: zipp>=0.5 in /usr/local/lib/python3.7/dist-packages (from importlib-metadata>=4.4->markdown>=2.6.8->tensorboard>=2.4.1->-r /content/drive/MyDrive/Yolov5/NATO-Symbols/yolov5/requirements.txt (line 16)) (3.8.0)\n",
            "Requirement already satisfied: pyasn1<0.5.0,>=0.4.6 in /usr/local/lib/python3.7/dist-packages (from pyasn1-modules>=0.2.1->google-auth<3,>=1.6.3->tensorboard>=2.4.1->-r /content/drive/MyDrive/Yolov5/NATO-Symbols/yolov5/requirements.txt (line 16)) (0.4.8)\n",
            "Requirement already satisfied: oauthlib>=3.0.0 in /usr/local/lib/python3.7/dist-packages (from requests-oauthlib>=0.7.0->google-auth-oauthlib<0.5,>=0.4.1->tensorboard>=2.4.1->-r /content/drive/MyDrive/Yolov5/NATO-Symbols/yolov5/requirements.txt (line 16)) (3.2.0)\n",
            "Installing collected packages: thop, PyYAML\n",
            "  Attempting uninstall: PyYAML\n",
            "    Found existing installation: PyYAML 3.13\n",
            "    Uninstalling PyYAML-3.13:\n",
            "      Successfully uninstalled PyYAML-3.13\n",
            "Successfully installed PyYAML-6.0 thop-0.0.31.post2005241907\n",
            "Looking in indexes: https://pypi.org/simple, https://us-python.pkg.dev/colab-wheels/public/simple/\n",
            "Requirement already satisfied: numpy>=1.21.0 in /usr/local/lib/python3.7/dist-packages (from -r /content/drive/MyDrive/Yolov5/NATO-Symbols/requirements.txt (line 1)) (1.21.6)\n",
            "Requirement already satisfied: opencv-python>=4.1.2.30 in /usr/local/lib/python3.7/dist-packages (from -r /content/drive/MyDrive/Yolov5/NATO-Symbols/requirements.txt (line 2)) (4.1.2.30)\n",
            "Requirement already satisfied: scipy>=1.4.0 in /usr/local/lib/python3.7/dist-packages (from -r /content/drive/MyDrive/Yolov5/NATO-Symbols/requirements.txt (line 3)) (1.4.1)\n",
            "Requirement already satisfied: tqdm>=4.64.0 in /usr/local/lib/python3.7/dist-packages (from -r /content/drive/MyDrive/Yolov5/NATO-Symbols/requirements.txt (line 4)) (4.64.0)\n"
          ]
        }
      ],
      "source": [
        "import sys\n",
        "if project_root+\"/scripts\" not in sys.path:\n",
        "  sys.path.append(project_root+\"/scripts\")\n",
        "yolo_reqs=yolo_dir+\"/requirements.txt\"\n",
        "project_reqs=project_root+\"/requirements.txt\"\n",
        "!python3 -m pip install wandb\n",
        "!python3 -m pip install -r  {yolo_reqs}\n",
        "!python3 -m pip install -r {project_reqs}"
      ]
    },
    {
      "cell_type": "code",
      "source": [
        "#!cp /content/drive/MyDrive/Yolov5/NATO-Symbols/scripts/augment_tools.py /content #THIS IS ONLY NEEDED IF YOU OTHERWISE GET AN IMPORT ERROR"
      ],
      "metadata": {
        "id": "BdmWnAeJd979"
      },
      "execution_count": 12,
      "outputs": []
    },
    {
      "cell_type": "markdown",
      "metadata": {
        "id": "hA4CGhSTT8ag"
      },
      "source": [
        "### Generate a YOLOv5 dataset\n",
        "\n",
        "This is based on single-symbol images that will be randomly placed on a white canvas to compose a set of multi-symbol images that will be used in training the YOLOv5 weights."
      ]
    },
    {
      "cell_type": "code",
      "execution_count": 29,
      "metadata": {
        "id": "uqgcbxaSSrFb"
      },
      "outputs": [],
      "source": [
        "import numpy as np\n",
        "import cv2\n",
        "from random import randint\n",
        "from scipy import ndimage\n",
        "import os\n",
        "import re\n",
        "from tqdm import tqdm\n",
        "from augment_tools import augment\n",
        "from matplotlib import pylab as plt\n",
        "try:\n",
        "  from google.colab.patches import cv2_imshow\n",
        "except:\n",
        "  pass\n",
        "clean=False\n",
        "dataset_sz=500\n",
        "dim=(720,1280)\n",
        "label_list=[\"advance_to_contact\", \"attack\", \"block\", \"counterattack\", \"cover\", \"delay\", \"destroy\", \"disrupt\", \"guard\", \"occupy\", \"retain\", \"screen\", \"secure\", \"seize\", \"support_by_fire\"]\n",
        "localize_list=[\"symbol\"]"
      ]
    },
    {
      "cell_type": "code",
      "execution_count": 27,
      "metadata": {
        "id": "Nz-kEdrmc7hS",
        "colab": {
          "base_uri": "https://localhost:8080/",
          "height": 515
        },
        "outputId": "6c9d0a4f-e640-4038-c91e-dcd5085f810c"
      },
      "outputs": [
        {
          "output_type": "stream",
          "name": "stdout",
          "text": [
            "Checking directory  /content/drive/MyDrive/Yolov5/NATO-Symbols/datasets/raw/mihkell\n"
          ]
        },
        {
          "output_type": "display_data",
          "data": {
            "text/plain": [
              "<PIL.Image.Image image mode=L size=136x134 at 0x7F32E9874650>"
            ],
            "image/png": "[encoded data removed]"
          },
          "metadata": {}
        },
        {
          "output_type": "stream",
          "name": "stdout",
          "text": [
            "Checking directory  /content/drive/MyDrive/Yolov5/NATO-Symbols/datasets/raw/mihkell2\n"
          ]
        },
        {
          "output_type": "display_data",
          "data": {
            "text/plain": [
              "<PIL.Image.Image image mode=L size=138x131 at 0x7F32E9877E50>"
            ],
            "image/png": "[encoded data removed]"
          },
          "metadata": {}
        },
        {
          "output_type": "stream",
          "name": "stdout",
          "text": [
            "Checking directory  /content/drive/MyDrive/Yolov5/NATO-Symbols/datasets/raw/cadet_drawings\n"
          ]
        },
        {
          "output_type": "display_data",
          "data": {
            "text/plain": [
              "<PIL.Image.Image image mode=L size=127x129 at 0x7F32E8D6E4D0>"
            ],
            "image/png": "[encoded data removed]"
          },
          "metadata": {}
        },
        {
          "output_type": "stream",
          "name": "stdout",
          "text": [
            "There are 16 labels: ['advance_to_contact' 'attack' 'block' 'counterattack'\n",
            " 'counterattack_by_fire' 'cover' 'delay' 'destroy' 'disrupt' 'guard'\n",
            " 'occupy' 'retain' 'screen' 'secure' 'seize' 'support_by_fire']\n"
          ]
        }
      ],
      "source": [
        "raws=[]\n",
        "raw_labels=[]\n",
        "datasets_root=project_root+\"/datasets\"\n",
        "raw_clean_dir=datasets_root+\"/raw-clean\"\n",
        "raw_dir=datasets_root+\"/raw\"\n",
        "\n",
        "if clean:\n",
        "  file_list=os.listdir(raw_clean_dir)\n",
        "  print(file_list)\n",
        "\n",
        "  for title in file_list:\n",
        "    raw=cv2.imread(raw_clean_dir+\"/\"+title, cv2.IMREAD_GRAYSCALE)\n",
        "    raw=cv2.resize(raw, (150,150), cv2.INTER_AREA)\n",
        "    raw=cv2.adaptiveThreshold(raw, 255, cv2.ADAPTIVE_THRESH_GAUSSIAN_C, cv2.THRESH_BINARY, 31, 19)\n",
        "\n",
        "    raw=raw[np.argwhere(np.amin(raw,axis=1)<120)[0][0]:np.argwhere(np.amin(raw,axis=1)<120)[-1][0],:]\n",
        "    raw = raw[:,np.argwhere(np.amin(raw,axis=0) < 120)[0][0]:np.argwhere(np.amin(raw,axis=0) < 120)[-1][0]]\n",
        "\n",
        "    raws.append(raw)\n",
        "    raw_labels.append(re.findall('([a-zA-Z_ ]*)\\d*.*', title)[0])\n",
        "\n",
        "  cv2_imshow(raw)\n",
        "\n",
        "else:\n",
        "  for subdir in os.listdir(raw_dir):\n",
        "    dir=raw_dir+\"/\"+subdir\n",
        "    file_list=os.listdir(dir)\n",
        "    print(\"Checking directory \", dir)\n",
        "\n",
        "    for title in file_list:\n",
        "      raw=cv2.imread(dir+\"/\"+title, cv2.IMREAD_GRAYSCALE)\n",
        "      raw=cv2.resize(raw, (150,150), cv2.INTER_AREA)\n",
        "      raw=cv2.adaptiveThreshold(raw, 255, cv2.ADAPTIVE_THRESH_GAUSSIAN_C, cv2.THRESH_BINARY, 31, 19)\n",
        "\n",
        "      raw=raw[np.argwhere(np.amin(raw,axis=1)<120)[0][0]:np.argwhere(np.amin(raw,axis=1)<120)[-1][0],:]\n",
        "      raw = raw[:,np.argwhere(np.amin(raw,axis=0) < 120)[0][0]:np.argwhere(np.amin(raw,axis=0) < 120)[-1][0]]\n",
        "\n",
        "      raws.append(raw)\n",
        "      raw_labels.append(re.findall('([a-zA-Z_ ]*)\\d*.*', title)[0])\n",
        "    cv2_imshow(raw)\n",
        "print(\"There are {} labels: {}\".format(len(np.unique(raw_labels)), np.unique(raw_labels)))"
      ]
    },
    {
      "cell_type": "code",
      "execution_count": 30,
      "metadata": {
        "id": "l52Uf7_Zho_q"
      },
      "outputs": [],
      "source": [
        "def generate_image(raw, raw_labels, dim=(850,850),min_sym=5,max_sym=9, max_overlap=15, bg_dim=0.85):\n",
        "  canvas=np.full(dim,int(bg_dim*255))\n",
        "  sym_data=[]\n",
        "  locations=[]\n",
        "\n",
        "  for i in range(randint(min_sym,max_sym)):\n",
        "    choice_idx=randint(0,len(raw)-1)\n",
        "    chosen=np.copy(raw[choice_idx])\n",
        "    chosen=augment(chosen.astype(np.uint8), apply_resize=True, apply_flip=True, apply_rotation=True, apply_transformation=True, apply_boldness=True)\n",
        "\n",
        "    while(True):\n",
        "      overlap=False\n",
        "      top_leftX=randint(0,dim[0]-chosen.shape[0])\n",
        "      top_leftY=randint(0,dim[1]-chosen.shape[1])\n",
        "      for j in range(len(locations)):\n",
        "        if ((top_leftX < locations[j][1][0]-max_overlap) and (top_leftY < locations[j][1][1]-max_overlap) and (top_leftX+chosen.shape[0] > locations[j][0][0]+max_overlap) and (top_leftY+chosen.shape[1] > locations[j][0][1]+max_overlap)):\n",
        "          overlap=True\n",
        "          break\n",
        "      if not overlap:\n",
        "        break\n",
        "\n",
        "    locations.append([[top_leftX,top_leftY],[top_leftX+chosen.shape[0],top_leftY+chosen.shape[1]]])\n",
        "    canvas[top_leftX:(top_leftX+chosen.shape[0]),top_leftY:(top_leftY+chosen.shape[1])][chosen < 140] = chosen[chosen < 140]\n",
        "    \n",
        "    #YOLO xywh format, flip x and y and w and h from previous step\n",
        "    dimX, dimY = dim\n",
        "    y=round(((top_leftX+(chosen.shape[0]/2))/dimX),2)\n",
        "    x=round(((top_leftY+(chosen.shape[1]/2))/dimY),2)\n",
        "    h=round((chosen.shape[0]/dimX),2)\n",
        "    w=round((chosen.shape[1]/dimY),2)\n",
        "\n",
        "    #Class nr\n",
        "    label=raw_labels[choice_idx]\n",
        "    if label==\"counterattack_by_fire\":\n",
        "      label=\"counterattack\"\n",
        "    class_nr=label_list.index(label)\n",
        "    sym_data.append([class_nr, x, y, w, h])\n",
        "\n",
        "\n",
        "  return canvas, sym_data"
      ]
    },
    {
      "cell_type": "code",
      "source": [
        "if not os.path.exists(img_dir+\"/train/img0.jpg\"):\n",
        "  trainnr=int(0.85*dataset_sz)\n",
        "\n",
        "  for i in tqdm(range(dataset_sz)):\n",
        "    img, img_data = generate_image(raws, raw_labels, dim)\n",
        "\n",
        "    if i<trainnr:\n",
        "      if cv2.imwrite(img_dir+\"/train/img\"+str(i)+\".jpg\", img):\n",
        "        with open(label_dir+\"/train/img\"+str(i)+\".txt\", 'w') as f:\n",
        "          for j in img_data:\n",
        "            for k in j:\n",
        "              f.write(str(k)+\" \")\n",
        "            f.write(\"\\n\")\n",
        "    else:\n",
        "      if cv2.imwrite(img_dir+\"/val/img\"+str(i)+\".jpg\", img):\n",
        "        with open(label_dir+\"/val/img\"+str(i)+\".txt\", 'w') as f:\n",
        "          for j in img_data:\n",
        "            for k in j:\n",
        "              f.write(str(k)+\" \")\n",
        "            f.write(\"\\n\")\n"
      ],
      "metadata": {
        "colab": {
          "base_uri": "https://localhost:8080/"
        },
        "id": "GgJRyutWgNWY",
        "outputId": "da751c9c-5c1d-4eb9-e0cc-ccf3eb57d576"
      },
      "execution_count": 31,
      "outputs": [
        {
          "output_type": "stream",
          "name": "stderr",
          "text": [
            "100%|██████████| 500/500 [01:39<00:00,  5.04it/s]\n"
          ]
        }
      ]
    },
    {
      "cell_type": "markdown",
      "metadata": {
        "id": "Tgs-eyB7MZGx"
      },
      "source": [
        "### Training YOLOv5"
      ]
    },
    {
      "cell_type": "code",
      "execution_count": 32,
      "metadata": {
        "id": "uvruaFW4NPpV"
      },
      "outputs": [],
      "source": [
        "import wandb\n",
        "train_dir=yolo_dir+\"/train.py\"\n",
        "detect_dir=yolo_dir+\"/detect.py\""
      ]
    },
    {
      "cell_type": "code",
      "execution_count": 33,
      "metadata": {
        "colab": {
          "base_uri": "https://localhost:8080/",
          "height": 69
        },
        "id": "fNpTnFeUNSWp",
        "outputId": "6e78ddfb-cf93-4c45-9b01-48934b9ad909"
      },
      "outputs": [
        {
          "output_type": "display_data",
          "data": {
            "text/plain": [
              "<IPython.core.display.Javascript object>"
            ],
            "application/javascript": [
              "\n",
              "        window._wandbApiKey = new Promise((resolve, reject) => {\n",
              "            function loadScript(url) {\n",
              "            return new Promise(function(resolve, reject) {\n",
              "                let newScript = document.createElement(\"script\");\n",
              "                newScript.onerror = reject;\n",
              "                newScript.onload = resolve;\n",
              "                document.body.appendChild(newScript);\n",
              "                newScript.src = url;\n",
              "            });\n",
              "            }\n",
              "            loadScript(\"https://cdn.jsdelivr.net/npm/postmate/build/postmate.min.js\").then(() => {\n",
              "            const iframe = document.createElement('iframe')\n",
              "            iframe.style.cssText = \"width:0;height:0;border:none\"\n",
              "            document.body.appendChild(iframe)\n",
              "            const handshake = new Postmate({\n",
              "                container: iframe,\n",
              "                url: 'https://wandb.ai/authorize'\n",
              "            });\n",
              "            const timeout = setTimeout(() => reject(\"Couldn't auto authenticate\"), 5000)\n",
              "            handshake.then(function(child) {\n",
              "                child.on('authorize', data => {\n",
              "                    clearTimeout(timeout)\n",
              "                    resolve(data)\n",
              "                });\n",
              "            });\n",
              "            })\n",
              "        });\n",
              "    "
            ]
          },
          "metadata": {}
        },
        {
          "output_type": "stream",
          "name": "stderr",
          "text": [
            "\u001b[34m\u001b[1mwandb\u001b[0m: Appending key for api.wandb.ai to your netrc file: /root/.netrc\n"
          ]
        },
        {
          "output_type": "execute_result",
          "data": {
            "text/plain": [
              "True"
            ]
          },
          "metadata": {},
          "execution_count": 33
        }
      ],
      "source": [
        "wandb.login()"
      ]
    },
    {
      "cell_type": "code",
      "execution_count": null,
      "metadata": {
        "id": "sG8zA7PWOQpN"
      },
      "outputs": [],
      "source": [
        "run_id = input(\"What is the name of the run? Be descriptive. Example 5l-300-colabGPU. \") #5l-300-colabGPU\n",
        "if not run_id:\n",
        "  run_id = \"unnamed\"\n",
        "!python3 {train_dir} --img 640 --batch 32 --epochs 200 --data NATO-Symbols.yaml --weights yolov5m.pt --project NATO-Symbols-Log --name {run_id} --cache"
      ]
    },
    {
      "cell_type": "markdown",
      "source": [
        "# Detection\n",
        "\n",
        "Test the best achieved weights on a set of images."
      ],
      "metadata": {
        "id": "Z30nJQAR7erQ"
      }
    },
    {
      "cell_type": "code",
      "source": [
        "weights_dir=project_root+\"/NATO-Symbols-Log/\"+run_id+\"/weights/best.pt\"\n",
        "detect_dir=yolo_dir+\"/detect.py\"\n",
        "src_dir=project_root+\"/datasets/raw-test\""
      ],
      "metadata": {
        "id": "X1HvUeew76YP"
      },
      "execution_count": null,
      "outputs": []
    },
    {
      "cell_type": "code",
      "source": [
        "#Make all the test images greyscale too to compare results\n",
        "for title in os.listdir(src_dir):\n",
        "    img=cv2.imread(src_dir+\"/\"+title, cv2.IMREAD_GRAYSCALE)\n",
        "    img=cv2.adaptiveThreshold(img, 200, cv2.ADAPTIVE_THRESH_MEAN_C, cv2.THRESH_BINARY, 25, 8)\n",
        "    cv2.imwrite(src_dir+\"/gray_\"+title, img)"
      ],
      "metadata": {
        "id": "nlimF0q6_Kcb"
      },
      "execution_count": null,
      "outputs": []
    },
    {
      "cell_type": "code",
      "execution_count": null,
      "metadata": {
        "id": "NoXc3FYjnFw4"
      },
      "outputs": [],
      "source": [
        "#!python /content/drive/MyDrive/Yolov5/NATO-Symbols/yolov5/detect.py --weights /content/drive/MyDrive/Yolov5/NATO-Symbols/NATO-Symbols-Log/5l-100/weights/best.pt --source /content/drive/MyDrive/Yolov5/NATO-Symbols/datasets/raw-test --conf-thres 0.8\n",
        "\n",
        "!python3 {detect_dir} --weights {weights_dir} --source {src_dir} --conf-thres 0.8"
      ]
    },
    {
      "cell_type": "markdown",
      "source": [
        "# Hyperparameter evolution\n",
        "\n",
        "Since YOLO has ~25 hyperparameters used for training settings, hyperparameter evolution is a very good way to finetune a model. However, this is a super time and resource expensive process. Here it was attempted to be done for 300 generations of 10 epochs, but due to Colab constraints it was more like 100 generations of 10 epochs."
      ],
      "metadata": {
        "id": "p4d1WwVLACnA"
      }
    },
    {
      "cell_type": "code",
      "source": [
        "run_id = input(\"What is the name of the run? Be descriptive. Example 5l-300-colabGPU. \") #5l-300-colabGPU\n",
        "if not run_id:\n",
        "  run_id = \"unnamed\"\n",
        "!python3 {train_dir} --epochs 10 --data NATO-Symbols.yaml --weights yolov5m.pt --project NATO-Symbols-Log --name {run_id} --cache --evolve"
      ],
      "metadata": {
        "id": "f89WxxoTYuFg"
      },
      "execution_count": null,
      "outputs": []
    }
  ],
  "metadata": {
    "colab": {
      "name": "YOLOtrainer.ipynb",
      "provenance": [],
      "collapsed_sections": []
    },
    "interpreter": {
      "hash": "916dbcbb3f70747c44a77c7bcd40155683ae19c65e1c03b4aa3499c5328201f1"
    },
    "kernelspec": {
      "display_name": "Python 3.8.10 64-bit",
      "language": "python",
      "name": "python3"
    },
    "language_info": {
      "codemirror_mode": {
        "name": "ipython",
        "version": 3
      },
      "file_extension": ".py",
      "mimetype": "text/x-python",
      "name": "python",
      "nbconvert_exporter": "python",
      "pygments_lexer": "ipython3",
      "version": "3.8.10"
    },
    "accelerator": "GPU"
  },
  "nbformat": 4,
  "nbformat_minor": 0
}