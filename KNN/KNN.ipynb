{
 "cells": [
  {
   "cell_type": "code",
   "execution_count": 1,
   "id": "e7120974",
   "metadata": {},
   "outputs": [],
   "source": [
    "import numpy as np\n",
    "import os\n",
    "import re\n",
    "import cv2\n",
    "from matplotlib import pylab as plt\n",
    "from sklearn.neighbors import KNeighborsClassifier"
   ]
  },
  {
   "cell_type": "code",
   "execution_count": 2,
   "id": "5caca2d7",
   "metadata": {},
   "outputs": [],
   "source": [
    "data = np.load(\"../data/generator/generated_data.npy\")\n",
    "data_labels =np.load(\"../data/generator/generated_data_labels.npy\")"
   ]
  },
  {
   "cell_type": "code",
   "execution_count": 3,
   "id": "891d20ae",
   "metadata": {},
   "outputs": [],
   "source": [
    "X_train = data.reshape((data.shape[0],-1))"
   ]
  },
  {
   "cell_type": "code",
   "execution_count": 4,
   "id": "1b47eb07",
   "metadata": {},
   "outputs": [
    {
     "data": {
      "text/plain": "(80820, 10000)"
     },
     "execution_count": 4,
     "metadata": {},
     "output_type": "execute_result"
    }
   ],
   "source": [
    "X_train.shape"
   ]
  },
  {
   "cell_type": "code",
   "execution_count": 5,
   "id": "c3ad0b8c",
   "metadata": {},
   "outputs": [],
   "source": [
    "#Fit KNN"
   ]
  },
  {
   "cell_type": "code",
   "execution_count": 5,
   "id": "1961681a",
   "metadata": {},
   "outputs": [],
   "source": [
    "neigh = KNeighborsClassifier(n_neighbors=4)"
   ]
  },
  {
   "cell_type": "code",
   "execution_count": 6,
   "id": "dbe05c09",
   "metadata": {},
   "outputs": [
    {
     "data": {
      "text/plain": "KNeighborsClassifier(n_neighbors=4)"
     },
     "execution_count": 6,
     "metadata": {},
     "output_type": "execute_result"
    }
   ],
   "source": [
    "neigh.fit(X_train, data_labels)"
   ]
  },
  {
   "cell_type": "code",
   "execution_count": 12,
   "id": "1f2e3ea4",
   "metadata": {},
   "outputs": [],
   "source": [
    "test_set = []\n",
    "test_set_labels = []\n",
    "\n",
    "#Read in sample.\n",
    "for filename in os.listdir(\"./data/symbols_test/\"):\n",
    "    img = cv2.imread(\"./data/symbols_test/\" + filename,0)\n",
    "    name = re.findall('([a-zA-Z_ ]*)\\d*.*', filename)[0]\n",
    "    #Preprocess image by removing blank columns and rows from edges\n",
    "    img = img[np.argwhere(np.amin(img,axis=1) < 120)[0][0]:np.argwhere(np.amin(img,axis=1) < 120)[-1][0],:]\n",
    "    img = img[:,np.argwhere(np.amin(img,axis=0) < 120)[0][0]:np.argwhere(np.amin(img,axis=0) < 120)[-1][0]]\n",
    "    img = cv2.resize(img, [100,100])\n",
    "    test_set.append(img)\n",
    "    test_set_labels.append(name)"
   ]
  },
  {
   "cell_type": "code",
   "execution_count": 13,
   "id": "06f23baf",
   "metadata": {},
   "outputs": [],
   "source": [
    "test = np.zeros((len(test_set),100*100))\n",
    "for i in range(len(test_set)):\n",
    "    test[i,:] = test_set[i].reshape(-1)"
   ]
  },
  {
   "cell_type": "code",
   "execution_count": 14,
   "id": "d7305899",
   "metadata": {},
   "outputs": [],
   "source": [
    "#Get predictions\n",
    "preds = neigh.predict(test)"
   ]
  },
  {
   "cell_type": "code",
   "execution_count": 15,
   "id": "0ff302f2",
   "metadata": {},
   "outputs": [],
   "source": [
    "#Count the correct\n",
    "correct = 0\n",
    "for i in range(len(preds)):\n",
    "    if (preds[i] == test_set_labels[i]):\n",
    "        correct += 1"
   ]
  },
  {
   "cell_type": "code",
   "execution_count": 16,
   "id": "b6a23882",
   "metadata": {
    "pycharm": {
     "name": "#%%\n"
    }
   },
   "outputs": [
    {
     "name": "stdout",
     "output_type": "stream",
     "text": [
      "Correct: 57\n",
      "Total: 75\n",
      "Acc: 0.76\n"
     ]
    }
   ],
   "source": [
    "print(\"Correct: \" + str(correct))\n",
    "print(\"Total: \" + str(len(preds)))\n",
    "print(\"Acc: \" + str(correct/len(preds)))"
   ]
  }
 ],
 "metadata": {
  "kernelspec": {
   "display_name": "Python 3 (ipykernel)",
   "language": "python",
   "name": "python3"
  },
  "language_info": {
   "codemirror_mode": {
    "name": "ipython",
    "version": 3
   },
   "file_extension": ".py",
   "mimetype": "text/x-python",
   "name": "python",
   "nbconvert_exporter": "python",
   "pygments_lexer": "ipython3",
   "version": "3.9.7"
  }
 },
 "nbformat": 4,
 "nbformat_minor": 5
}