{
 "cells": [
  {
   "cell_type": "code",
   "execution_count": 1,
   "id": "c173bdd4",
   "metadata": {},
   "outputs": [],
   "source": [
    "import numpy as np\n",
    "import cv2\n",
    "import os\n",
    "import re"
   ]
  },
  {
   "cell_type": "code",
   "execution_count": 15,
   "id": "7e1a7fd1",
   "metadata": {},
   "outputs": [],
   "source": [
    "import keras.backend as K\n",
    "from keras.models import Model\n",
    "from keras.layers import Input, Conv2D, Activation, Flatten, Dense, BatchNormalization, Dropout\n",
    "from tensorflow.keras.optimizers import Adam\n",
    "import tensorflow as tf\n",
    "import matplotlib.pyplot as plt"
   ]
  },
  {
   "cell_type": "code",
   "execution_count": 48,
   "id": "1bb777a9",
   "metadata": {},
   "outputs": [],
   "source": [
    "#Read in the data\n",
    "data = np.load(\"../data/generator/generated_data.npy\")\n",
    "data_labels =np.load(\"../data/generator/generated_data_labels.npy\")"
   ]
  },
  {
   "cell_type": "code",
   "execution_count": 49,
   "id": "b59abf2a",
   "metadata": {},
   "outputs": [],
   "source": [
    "#Change string labels to numeric\n",
    "data_labels2 = np.zeros(data_labels.shape)\n",
    "\n",
    "data_labels2[data_labels == \"attack\"] = 1\n",
    "data_labels2[data_labels == \"block\"] = 2\n",
    "data_labels2[data_labels == \"counterattack\"] = 3\n",
    "data_labels2[data_labels == \"cover\"] = 4\n",
    "data_labels2[data_labels == \"delay\"] = 5\n",
    "data_labels2[data_labels == \"destroy\"] = 6\n",
    "data_labels2[data_labels == \"disrupt\"] = 7\n",
    "data_labels2[data_labels == \"guard\"] = 8\n",
    "data_labels2[data_labels == \"occupy\"] = 9\n",
    "data_labels2[data_labels == \"retain\"] = 10\n",
    "data_labels2[data_labels == \"screen\"] = 11\n",
    "data_labels2[data_labels == \"secure\"] = 12\n",
    "data_labels2[data_labels == \"seize\"] = 13\n",
    "data_labels2[data_labels == \"support_by_fire\"] = 14"
   ]
  },
  {
   "cell_type": "code",
   "execution_count": 50,
   "id": "8f439282",
   "metadata": {},
   "outputs": [],
   "source": [
    "#Change to binary.\n",
    "data[data <= 140] = 1\n",
    "data[data > 140] = 0"
   ]
  },
  {
   "cell_type": "code",
   "execution_count": 51,
   "id": "45fd8c01",
   "metadata": {},
   "outputs": [
    {
     "name": "stdout",
     "output_type": "stream",
     "text": [
      "Model: \"model_1\"\n",
      "_________________________________________________________________\n",
      " Layer (type)                Output Shape              Param #   \n",
      "=================================================================\n",
      " input_2 (InputLayer)        [(None, 100, 100, 1)]     0         \n",
      "                                                                 \n",
      " conv2d_2 (Conv2D)           (None, 50, 50, 50)        4100      \n",
      "                                                                 \n",
      " batch_normalization_3 (Batc  (None, 50, 50, 50)       200       \n",
      " hNormalization)                                                 \n",
      "                                                                 \n",
      " activation_4 (Activation)   (None, 50, 50, 50)        0         \n",
      "                                                                 \n",
      " conv2d_3 (Conv2D)           (None, 42, 42, 50)        202550    \n",
      "                                                                 \n",
      " batch_normalization_4 (Batc  (None, 42, 42, 50)       200       \n",
      " hNormalization)                                                 \n",
      "                                                                 \n",
      " activation_5 (Activation)   (None, 42, 42, 50)        0         \n",
      "                                                                 \n",
      " flatten_1 (Flatten)         (None, 88200)             0         \n",
      "                                                                 \n",
      " dense_2 (Dense)             (None, 100)               8820100   \n",
      "                                                                 \n",
      " batch_normalization_5 (Batc  (None, 100)              400       \n",
      " hNormalization)                                                 \n",
      "                                                                 \n",
      " activation_6 (Activation)   (None, 100)               0         \n",
      "                                                                 \n",
      " dropout_3 (Dropout)         (None, 100)               0         \n",
      "                                                                 \n",
      " dense_3 (Dense)             (None, 15)                1515      \n",
      "                                                                 \n",
      " activation_7 (Activation)   (None, 15)                0         \n",
      "                                                                 \n",
      "=================================================================\n",
      "Total params: 9,029,065\n",
      "Trainable params: 9,028,665\n",
      "Non-trainable params: 400\n",
      "_________________________________________________________________\n"
     ]
    }
   ],
   "source": [
    "#Input_dim: (100x100)\n",
    "#Hidden: Two CNN layers (both 50 filters with 9x9 window size) and one FC-layer (100 nodes)\n",
    "#Output_dim: 15\n",
    "x = Input(shape=(100,100,1))\n",
    "c1 = Conv2D(50,(9,9),strides=(2,2), padding = \"same\")(x)\n",
    "b1 = BatchNormalization()(c1)\n",
    "a1 = Activation('relu')(b1)\n",
    "c2 = Conv2D(50,(9,9),strides=(1,1), padding = \"valid\")(a1)\n",
    "b2 = BatchNormalization()(c2)\n",
    "a2 = Activation('relu')(b2)\n",
    "d2 = Dropout(rate=0.25)(a2)\n",
    "f2 = Flatten()(a2)\n",
    "h3 = Dense(100)(f2)\n",
    "b3 = BatchNormalization()(h3)\n",
    "a3 = Activation('relu')(b3)\n",
    "d3 = Dropout(rate=0.5)(a3)\n",
    "z = Dense(15)(d3)\n",
    "p = Activation('softmax')(z)\n",
    "\n",
    "model = Model(inputs=x, outputs=p)\n",
    "model.compile(loss='sparse_categorical_crossentropy', optimizer=Adam(learning_rate=0.0005), metrics=['accuracy'])\n",
    "model.summary()"
   ]
  },
  {
   "cell_type": "code",
   "execution_count": 52,
   "id": "9c3a4694",
   "metadata": {},
   "outputs": [
    {
     "name": "stdout",
     "output_type": "stream",
     "text": [
      "2105/2105 [==============================] - 1274s 605ms/step - loss: 0.5834 - accuracy: 0.7941 - val_loss: 0.4095 - val_accuracy: 0.8293\n"
     ]
    }
   ],
   "source": [
    "history = model.fit(data, data_labels2, batch_size=64, epochs=5, validation_split=0.05)"
   ]
  },
  {
   "cell_type": "code",
   "execution_count": 55,
   "id": "87c07668",
   "metadata": {},
   "outputs": [
    {
     "data": {
      "text/plain": "Text(0.5, 1.0, 'Accuracy')"
     },
     "execution_count": 55,
     "metadata": {},
     "output_type": "execute_result"
    },
    {
     "data": {
      "text/plain": "<Figure size 1152x432 with 2 Axes>",
      "image/png": "[encoded data removed]"
     },
     "metadata": {
      "needs_background": "light"
     },
     "output_type": "display_data"
    }
   ],
   "source": [
    "plt.figure(figsize=(16, 6))\n",
    "\n",
    "plt.subplot(1, 2, 1)\n",
    "plt.plot(history.history['loss'])\n",
    "plt.plot(history.history['val_loss'])\n",
    "plt.xlabel('Epoch')\n",
    "plt.ylabel('Loss')\n",
    "plt.legend(['Training', 'Validation'])\n",
    "plt.title('Loss')\n",
    "\n",
    "plt.subplot(1, 2, 2)\n",
    "plt.plot(history.history['accuracy'])\n",
    "plt.plot(history.history['val_accuracy'])\n",
    "plt.xlabel('Epoch')\n",
    "plt.ylabel('Accuracy')\n",
    "plt.legend(['Training', 'Validation'])\n",
    "plt.title('Accuracy')"
   ]
  },
  {
   "cell_type": "code",
   "execution_count": 56,
   "id": "fed7f18c",
   "metadata": {},
   "outputs": [],
   "source": [
    "# Save the model\n",
    "model.save(\"nato_symbols.h5\")"
   ]
  },
  {
   "cell_type": "markdown",
   "id": "da801b18",
   "metadata": {},
   "source": [
    "### Model on test set"
   ]
  },
  {
   "cell_type": "code",
   "execution_count": 57,
   "id": "9a7ab485",
   "metadata": {},
   "outputs": [],
   "source": [
    "from tensorflow import keras\n",
    "from sklearn.metrics import confusion_matrix, ConfusionMatrixDisplay\n",
    "import numpy as np\n",
    "import cv2\n",
    "import os\n",
    "import re"
   ]
  },
  {
   "cell_type": "code",
   "execution_count": 69,
   "id": "c8136d40",
   "metadata": {},
   "outputs": [],
   "source": [
    "model = keras.models.load_model('./nato_symbols.h5')"
   ]
  },
  {
   "cell_type": "code",
   "execution_count": 70,
   "id": "a019637d",
   "metadata": {},
   "outputs": [],
   "source": [
    "#Read in the test set\n",
    "test_set = []\n",
    "test_set_labels = []"
   ]
  },
  {
   "cell_type": "code",
   "execution_count": 71,
   "id": "322a4599",
   "metadata": {},
   "outputs": [],
   "source": [
    "#Test set 1\n",
    "for filename in os.listdir(\"../data/test_data/\"):\n",
    "    img = cv2.imread(\"../data/test_data/\" + filename,0)\n",
    "    name = re.findall('([a-zA-Z_ ]*)\\d*.*', filename)[0]\n",
    "    img = img[np.argwhere(np.amin(img,axis=1) < 120)[0][0]:np.argwhere(np.amin(img,axis=1) < 120)[-1][0],:]\n",
    "    img = img[:,np.argwhere(np.amin(img,axis=0) < 120)[0][0]:np.argwhere(np.amin(img,axis=0) < 120)[-1][0]]\n",
    "    img = cv2.resize(img, [100,100])\n",
    "    test_set.append(img)\n",
    "    test_set_labels.append(name)"
   ]
  },
  {
   "cell_type": "code",
   "execution_count": null,
   "id": "d5abe3c8",
   "metadata": {},
   "outputs": [],
   "source": [
    "#Test set 2\n",
    "for filename in os.listdir(\"../data/symbols_test2/\"):\n",
    "    img = cv2.imread(\"../data/symbols_test2/\" + filename,0)\n",
    "    name = re.findall('([a-zA-Z_ ]*)\\d*.*', filename)[0]\n",
    "    img = img[np.argwhere(np.amin(img,axis=1) < 120)[0][0]:np.argwhere(np.amin(img,axis=1) < 120)[-1][0],:]\n",
    "    img = img[:,np.argwhere(np.amin(img,axis=0) < 120)[0][0]:np.argwhere(np.amin(img,axis=0) < 120)[-1][0]]\n",
    "    img = cv2.resize(img, [100,100])\n",
    "    test_set.append(img)\n",
    "    test_set_labels.append(name)"
   ]
  },
  {
   "cell_type": "code",
   "execution_count": 72,
   "id": "d0eeb7ba",
   "metadata": {},
   "outputs": [],
   "source": [
    "test = np.zeros((len(test_set),100,100))\n",
    "for i in range(len(test_set)):\n",
    "    test[i,:,:] = test_set[i]"
   ]
  },
  {
   "cell_type": "code",
   "execution_count": 77,
   "id": "cbed23b7",
   "metadata": {},
   "outputs": [],
   "source": [
    "#Change to binary\n",
    "test[test <= 140] = 1\n",
    "test[test > 140] = 0"
   ]
  },
  {
   "cell_type": "code",
   "execution_count": null,
   "id": "ccdfafc4",
   "metadata": {},
   "outputs": [],
   "source": [
    "#Get numeric values of the test set labels"
   ]
  },
  {
   "cell_type": "code",
   "execution_count": 78,
   "outputs": [],
   "source": [
    "test_set_labels = np.array(test_set_labels)"
   ],
   "metadata": {
    "collapsed": false,
    "pycharm": {
     "name": "#%%\n"
    }
   }
  },
  {
   "cell_type": "code",
   "execution_count": 79,
   "id": "c0aa3316",
   "metadata": {},
   "outputs": [],
   "source": [
    "test_labels = np.zeros(np.array(test_set_labels).shape)\n",
    "\n",
    "test_labels[test_set_labels == \"attack\"] = 1\n",
    "test_labels[test_set_labels == \"block\"] = 2\n",
    "test_labels[test_set_labels == \"counterattack\"] = 3\n",
    "test_labels[test_set_labels == \"cover\"] = 4\n",
    "test_labels[test_set_labels == \"delay\"] = 5\n",
    "test_labels[test_set_labels == \"destroy\"] = 6\n",
    "test_labels[test_set_labels == \"disrupt\"] = 7\n",
    "test_labels[test_set_labels == \"guard\"] = 8\n",
    "test_labels[test_set_labels == \"occupy\"] = 9\n",
    "test_labels[test_set_labels == \"retain\"] = 10\n",
    "test_labels[test_set_labels == \"screen\"] = 11\n",
    "test_labels[test_set_labels == \"secure\"] = 12\n",
    "test_labels[test_set_labels == \"seize\"] = 13\n",
    "test_labels[test_set_labels == \"support_by_fire\"] = 14"
   ]
  },
  {
   "cell_type": "code",
   "execution_count": 80,
   "id": "cab75193",
   "metadata": {},
   "outputs": [],
   "source": [
    "#Get the predictions\n",
    "preds = model.predict(test)"
   ]
  },
  {
   "cell_type": "code",
   "execution_count": 81,
   "id": "8fceded6",
   "metadata": {},
   "outputs": [
    {
     "name": "stdout",
     "output_type": "stream",
     "text": [
      "Correct: 340\n",
      "Total: 585\n",
      "Acc: 0.5811965811965812\n"
     ]
    }
   ],
   "source": [
    "correct = np.sum(np.abs(np.argmax(preds, axis=1)-test_labels) == 0)\n",
    "print(\"Correct: \" + str(correct))\n",
    "print(\"Total: \" + str(test.shape[0]))\n",
    "print(\"Acc: \" + str(correct/test.shape[0]))"
   ]
  },
  {
   "cell_type": "code",
   "execution_count": 82,
   "id": "10ff5562",
   "metadata": {},
   "outputs": [],
   "source": [
    "# Get the confusion matrix.\n",
    "cm = confusion_matrix(test_labels, np.argmax(preds, axis=1))"
   ]
  },
  {
   "cell_type": "code",
   "execution_count": 83,
   "id": "2f1e5f8a",
   "metadata": {
    "pycharm": {
     "name": "#%%\n"
    }
   },
   "outputs": [
    {
     "data": {
      "text/plain": "<sklearn.metrics._plot.confusion_matrix.ConfusionMatrixDisplay at 0x201d9e86d90>"
     },
     "execution_count": 83,
     "metadata": {},
     "output_type": "execute_result"
    },
    {
     "data": {
      "text/plain": "<Figure size 432x288 with 2 Axes>",
      "image/png": "[encoded data removed]"
     },
     "metadata": {
      "needs_background": "light"
     },
     "output_type": "display_data"
    }
   ],
   "source": [
    "#Plot the confusion matrix.\n",
    "disp = ConfusionMatrixDisplay(confusion_matrix=cm, display_labels = [\"advance_to_contact\",\n",
    "                                                            \"attack\",\n",
    "                                                            \"block\",\n",
    "                                                            \"counterattack\",\n",
    "                                                            \"cover\",\n",
    "                                                            \"delay\",\n",
    "                                                            \"destroy\",\n",
    "                                                            \"disrupt\",\n",
    "                                                            \"guard\",\n",
    "                                                            \"occupy\",\n",
    "                                                            \"retain\",\n",
    "                                                            \"screen\",\n",
    "                                                            \"secure\",\n",
    "                                                            \"seize\",\n",
    "                                                            \"support_by_fire\"])\n",
    "\n",
    "disp.plot(xticks_rotation= \"vertical\")"
   ]
  }
 ],
 "metadata": {
  "kernelspec": {
   "display_name": "Python 3 (ipykernel)",
   "language": "python",
   "name": "python3"
  },
  "language_info": {
   "codemirror_mode": {
    "name": "ipython",
    "version": 3
   },
   "file_extension": ".py",
   "mimetype": "text/x-python",
   "name": "python",
   "nbconvert_exporter": "python",
   "pygments_lexer": "ipython3",
   "version": "3.9.7"
  }
 },
 "nbformat": 4,
 "nbformat_minor": 5
}