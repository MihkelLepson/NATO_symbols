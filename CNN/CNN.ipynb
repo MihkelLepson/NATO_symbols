{
 "cells": [
  {
   "cell_type": "code",
   "execution_count": null,
   "id": "c173bdd4",
   "metadata": {},
   "outputs": [],
   "source": [
    "import numpy as np\n",
    "import cv2\n",
    "import os\n",
    "import re"
   ]
  },
  {
   "cell_type": "code",
   "execution_count": null,
   "id": "7e1a7fd1",
   "metadata": {},
   "outputs": [],
   "source": [
    "import keras.backend as K\n",
    "from keras.models import Model\n",
    "from keras.layers import Input, Conv2D, Activation, Flatten, Dense, BatchNormalization, Dropout\n",
    "from tensorflow.keras.optimizers import Adam\n",
    "import tensorflow as tf"
   ]
  },
  {
   "cell_type": "code",
   "execution_count": null,
   "id": "1bb777a9",
   "metadata": {},
   "outputs": [],
   "source": [
    "#Read in the data\n",
    "data = np.load(\"../data/generator/generated_data2.npy\")\n",
    "data_labels =np.load(\"../data/generator/generated_data_labels2.npy\")"
   ]
  },
  {
   "cell_type": "code",
   "execution_count": null,
   "id": "b59abf2a",
   "metadata": {},
   "outputs": [],
   "source": [
    "#Change string labels to numeric\n",
    "data_labels2 = np.zeros(data_labels.shape)\n",
    "\n",
    "data_labels2[data_labels == \"attack\"] = 1\n",
    "data_labels2[data_labels == \"block\"] = 2\n",
    "data_labels2[data_labels == \"counterattack\"] = 3\n",
    "data_labels2[data_labels == \"cover\"] = 4\n",
    "data_labels2[data_labels == \"delay\"] = 5\n",
    "data_labels2[data_labels == \"destroy\"] = 6\n",
    "data_labels2[data_labels == \"disrupt\"] = 7\n",
    "data_labels2[data_labels == \"guard\"] = 8\n",
    "data_labels2[data_labels == \"occupy\"] = 9\n",
    "data_labels2[data_labels == \"retain\"] = 10\n",
    "data_labels2[data_labels == \"screen\"] = 11\n",
    "data_labels2[data_labels == \"secure\"] = 12\n",
    "data_labels2[data_labels == \"seize\"] = 13\n",
    "data_labels2[data_labels == \"support_by_fire\"] = 14"
   ]
  },
  {
   "cell_type": "code",
   "execution_count": null,
   "id": "8f439282",
   "metadata": {},
   "outputs": [],
   "source": [
    "#Change to binary.\n",
    "data[data <= 140] = 1\n",
    "data[data > 140] = 0"
   ]
  },
  {
   "cell_type": "code",
   "execution_count": null,
   "id": "45fd8c01",
   "metadata": {},
   "outputs": [],
   "source": [
    "#Input_dim: (100x100)\n",
    "#Hidden: Two CNN layers (both 50 filtires with 9x9 window size) and one FC-layer (100 nodes)\n",
    "#Output_dim: 15\n",
    "x = Input(shape=(100,100,1))\n",
    "c1 = Conv2D(50,(9,9),strides=(2,2), padding = \"same\")(x)\n",
    "b1 = BatchNormalization()(c1)\n",
    "a1 = Activation('relu')(b1)\n",
    "c2 = Conv2D(50,(9,9),strides=(1,1), padding = \"valid\")(a1)\n",
    "b2 = BatchNormalization()(c2)\n",
    "a2 = Activation('relu')(b2)\n",
    "d2 = Dropout(rate=0.25)(a2)\n",
    "f2 = Flatten()(a2)\n",
    "h3 = Dense(100)(f2)\n",
    "b3 = BatchNormalization()(h3)\n",
    "a3 = Activation('relu')(b3)\n",
    "d3 = Dropout(rate=0.5)(a3)\n",
    "z = Dense(15)(d3)\n",
    "p = Activation('softmax')(z)\n",
    "\n",
    "model = Model(inputs=x, outputs=p)\n",
    "model.compile(loss='sparse_categorical_crossentropy', optimizer=Adam(learning_rate=0.0005), metrics=['accuracy'])\n",
    "model.summary()"
   ]
  },
  {
   "cell_type": "code",
   "execution_count": null,
   "id": "9c3a4694",
   "metadata": {},
   "outputs": [],
   "source": [
    "history = model.fit(data, data_labels2, batch_size=64, epochs=5, validation_split=0.05)"
   ]
  },
  {
   "cell_type": "code",
   "execution_count": null,
   "id": "322a4599",
   "metadata": {},
   "outputs": [],
   "source": [
    "#Read in the test set\n",
    "test_set = []\n",
    "test_set_labels = []\n",
    "\n",
    "for filename in os.listdir(\"../data/symbols_test/\"):\n",
    "    img = cv2.imread(\"../data/symbols_test/\" + filename,0)\n",
    "    name = re.findall('([a-zA-Z_ ]*)\\d*.*', filename)[0]\n",
    "    img = img[np.argwhere(np.amin(img,axis=1) < 120)[0][0]:np.argwhere(np.amin(img,axis=1) < 120)[-1][0],:]\n",
    "    img = img[:,np.argwhere(np.amin(img,axis=0) < 120)[0][0]:np.argwhere(np.amin(img,axis=0) < 120)[-1][0]]\n",
    "    img = cv2.resize(img, [100,100])\n",
    "    test_set.append(img)\n",
    "    test_set_labels.append(name)\n",
    "\n",
    "test_set_labels = np.array(test_set_labels)"
   ]
  },
  {
   "cell_type": "code",
   "execution_count": null,
   "id": "d0eeb7ba",
   "metadata": {},
   "outputs": [],
   "source": [
    "test = np.zeros((len(test_set),100,100))\n",
    "for i in range(len(test_set)):\n",
    "    test[i,:,:] = test_set[i]"
   ]
  },
  {
   "cell_type": "code",
   "execution_count": null,
   "id": "cbed23b7",
   "metadata": {},
   "outputs": [],
   "source": [
    "#Change to binary\n",
    "test[test <= 140] = 1\n",
    "test[test > 140] = 0"
   ]
  },
  {
   "cell_type": "code",
   "execution_count": null,
   "id": "ccdfafc4",
   "metadata": {},
   "outputs": [],
   "source": [
    "#Get numeric values of the test set labels"
   ]
  },
  {
   "cell_type": "code",
   "execution_count": null,
   "id": "c0aa3316",
   "metadata": {},
   "outputs": [],
   "source": [
    "test_labels = np.zeros(test_set_labels.shape)\n",
    "\n",
    "test_labels[test_set_labels == \"attack\"] = 1\n",
    "test_labels[test_set_labels == \"block\"] = 2\n",
    "test_labels[test_set_labels == \"counterattack\"] = 3\n",
    "test_labels[test_set_labels == \"cover\"] = 4\n",
    "test_labels[test_set_labels == \"delay\"] = 5\n",
    "test_labels[test_set_labels == \"destroy\"] = 6\n",
    "test_labels[test_set_labels == \"disrupt\"] = 7\n",
    "test_labels[test_set_labels == \"guard\"] = 8\n",
    "test_labels[test_set_labels == \"occupy\"] = 9\n",
    "test_labels[test_set_labels == \"retain\"] = 10\n",
    "test_labels[test_set_labels == \"screen\"] = 11\n",
    "test_labels[test_set_labels == \"secure\"] = 12\n",
    "test_labels[test_set_labels == \"seize\"] = 13\n",
    "test_labels[test_set_labels == \"support_by_fire\"] = 14"
   ]
  },
  {
   "cell_type": "code",
   "execution_count": null,
   "id": "cab75193",
   "metadata": {},
   "outputs": [],
   "source": [
    "#Get the predictions\n",
    "preds = model.predict(test)"
   ]
  },
  {
   "cell_type": "code",
   "execution_count": null,
   "id": "8fceded6",
   "metadata": {},
   "outputs": [],
   "source": [
    "correct = np.sum(np.abs(np.argmax(preds, axis=1)-test_labels) == 0)\n",
    "print(\"Correct: \" + str(correct))\n",
    "print(\"Total: \" + str(test.shape[0]))\n",
    "print(\"Acc: \" 0 str(correct/test.shape[0]))"
   ]
  }
 ],
 "metadata": {
  "kernelspec": {
   "display_name": "Python 3 (ipykernel)",
   "language": "python",
   "name": "python3"
  },
  "language_info": {
   "codemirror_mode": {
    "name": "ipython",
    "version": 3
   },
   "file_extension": ".py",
   "mimetype": "text/x-python",
   "name": "python",
   "nbconvert_exporter": "python",
   "pygments_lexer": "ipython3",
   "version": "3.9.7"
  }
 },
 "nbformat": 4,
 "nbformat_minor": 5
}
